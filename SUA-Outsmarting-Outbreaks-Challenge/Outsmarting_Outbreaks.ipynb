{
 "cells": [
  {
   "cell_type": "code",
   "metadata": {
    "id": "eoOtsnpOmSMO",
    "ExecuteTime": {
     "end_time": "2025-01-08T05:36:33.929250Z",
     "start_time": "2025-01-08T05:36:33.914353Z"
    }
   },
   "source": [
    "# Import necessary libraries\n",
    "import pandas as pd\n",
    "import numpy as np\n",
    "\n",
    "import matplotlib.pyplot as plt\n",
    "\n",
    "from scipy.spatial import cKDTree\n",
    "\n",
    "from sklearn.model_selection import train_test_split\n",
    "from sklearn.ensemble import RandomForestRegressor\n",
    "from sklearn.preprocessing import LabelEncoder\n",
    "from sklearn.metrics import mean_absolute_error\n",
    "from xgboost import XGBRegressor\n",
    "from sklearn.model_selection import RandomizedSearchCV\n",
    "from catboost import CatBoostRegressor"
   ],
   "outputs": [],
   "execution_count": 61
  },
  {
   "cell_type": "code",
   "metadata": {
    "id": "77s3XlNnm1Ic",
    "ExecuteTime": {
     "end_time": "2025-01-08T04:56:41.819842Z",
     "start_time": "2025-01-08T04:56:41.468277Z"
    }
   },
   "source": [
    "# Load datasets\n",
    "train = pd.read_csv(\"data/Train.csv\")\n",
    "test = pd.read_csv(\"data/Test.csv\")\n",
    "toilets = pd.read_csv(\"data/toilets.csv\")\n",
    "waste_management = pd.read_csv(\"data/waste_management.csv\")\n",
    "water_sources = pd.read_csv(\"data/water_sources.csv\")"
   ],
   "outputs": [],
   "execution_count": 2
  },
  {
   "cell_type": "markdown",
   "metadata": {},
   "source": [
    "## Explore the Data\n",
    " - We shall look at the data and try to understand the data\n",
    "    - We shall look at the distribution of the target variable\n",
    "    - We shall look at the distribution of the features\n",
    "    - We shall look at the correlation between the features\n",
    "    - We shall look at the missing values in the data\n",
    "    - we look at the different datasets provided\n",
    "     - toilets\n",
    "     - waste management\n",
    "     - water sources\n",
    "     - train\n",
    "     - test"
   ]
  },
  {
   "cell_type": "code",
   "metadata": {
    "ExecuteTime": {
     "end_time": "2025-01-08T04:56:49.819889Z",
     "start_time": "2025-01-08T04:56:49.813433Z"
    }
   },
   "source": [
    "# toilets shape\n",
    "toilets.shape"
   ],
   "outputs": [
    {
     "data": {
      "text/plain": [
       "(10680, 43)"
      ]
     },
     "execution_count": 5,
     "metadata": {},
     "output_type": "execute_result"
    }
   ],
   "execution_count": 5
  },
  {
   "metadata": {},
   "cell_type": "markdown",
   "source": ""
  },
  {
   "cell_type": "code",
   "metadata": {
    "ExecuteTime": {
     "end_time": "2025-01-08T04:56:52.567318Z",
     "start_time": "2025-01-08T04:56:52.531013Z"
    }
   },
   "source": [
    "# toilets head\n",
    "toilets.head()"
   ],
   "outputs": [
    {
     "data": {
      "text/plain": [
       "   Year  Month       10u       10v       2d       2t     evabs     evaow  \\\n",
       "0  2019      1 -1.006850 -0.714544  293.502  297.417 -0.002489 -0.001031   \n",
       "1  2019      2 -1.408560 -0.662555  292.943  297.978 -0.002556 -0.001076   \n",
       "2  2019      3 -0.892110 -0.449448  293.250  297.989 -0.002535 -0.000980   \n",
       "3  2019      4 -0.392348  0.384925  293.934  296.542 -0.001748 -0.000658   \n",
       "4  2019      5 -0.447104  0.581028  292.571  294.726 -0.001374 -0.000462   \n",
       "\n",
       "      evatc         evavt  ...        tp     swvl1     swvl2     swvl3  \\\n",
       "0 -0.000989 -3.445890e-08  ...  0.006655  0.346542  0.335724  0.264359   \n",
       "1 -0.000734 -3.818420e-08  ...  0.003201  0.254517  0.259918  0.281769   \n",
       "2 -0.000713 -3.678720e-08  ...  0.004682  0.278152  0.284195  0.261597   \n",
       "3 -0.001343 -2.700840e-08  ...  0.007518  0.385513  0.378616  0.309784   \n",
       "4 -0.001139 -2.048910e-08  ...  0.005989  0.397659  0.400055  0.392654   \n",
       "\n",
       "      swvl4  Transformed_Latitude  Transformed_Longitude  Month_Year  \\\n",
       "0  0.300018              -8.61768               68.24536      1_2019   \n",
       "1  0.296188              -8.61768               68.24536      2_2019   \n",
       "2  0.291672              -8.61768               68.24536      3_2019   \n",
       "3  0.288925              -8.61768               68.24536      4_2019   \n",
       "4  0.309311              -8.61768               68.24536      5_2019   \n",
       "\n",
       "             lat_lon        Month_Year_lat_lon  \n",
       "0  -8.61768_68.24536  1_2019_-8.61768_68.24536  \n",
       "1  -8.61768_68.24536  2_2019_-8.61768_68.24536  \n",
       "2  -8.61768_68.24536  3_2019_-8.61768_68.24536  \n",
       "3  -8.61768_68.24536  4_2019_-8.61768_68.24536  \n",
       "4  -8.61768_68.24536  5_2019_-8.61768_68.24536  \n",
       "\n",
       "[5 rows x 43 columns]"
      ],
      "text/html": [
       "<div>\n",
       "<style scoped>\n",
       "    .dataframe tbody tr th:only-of-type {\n",
       "        vertical-align: middle;\n",
       "    }\n",
       "\n",
       "    .dataframe tbody tr th {\n",
       "        vertical-align: top;\n",
       "    }\n",
       "\n",
       "    .dataframe thead th {\n",
       "        text-align: right;\n",
       "    }\n",
       "</style>\n",
       "<table border=\"1\" class=\"dataframe\">\n",
       "  <thead>\n",
       "    <tr style=\"text-align: right;\">\n",
       "      <th></th>\n",
       "      <th>Year</th>\n",
       "      <th>Month</th>\n",
       "      <th>10u</th>\n",
       "      <th>10v</th>\n",
       "      <th>2d</th>\n",
       "      <th>2t</th>\n",
       "      <th>evabs</th>\n",
       "      <th>evaow</th>\n",
       "      <th>evatc</th>\n",
       "      <th>evavt</th>\n",
       "      <th>...</th>\n",
       "      <th>tp</th>\n",
       "      <th>swvl1</th>\n",
       "      <th>swvl2</th>\n",
       "      <th>swvl3</th>\n",
       "      <th>swvl4</th>\n",
       "      <th>Transformed_Latitude</th>\n",
       "      <th>Transformed_Longitude</th>\n",
       "      <th>Month_Year</th>\n",
       "      <th>lat_lon</th>\n",
       "      <th>Month_Year_lat_lon</th>\n",
       "    </tr>\n",
       "  </thead>\n",
       "  <tbody>\n",
       "    <tr>\n",
       "      <th>0</th>\n",
       "      <td>2019</td>\n",
       "      <td>1</td>\n",
       "      <td>-1.006850</td>\n",
       "      <td>-0.714544</td>\n",
       "      <td>293.502</td>\n",
       "      <td>297.417</td>\n",
       "      <td>-0.002489</td>\n",
       "      <td>-0.001031</td>\n",
       "      <td>-0.000989</td>\n",
       "      <td>-3.445890e-08</td>\n",
       "      <td>...</td>\n",
       "      <td>0.006655</td>\n",
       "      <td>0.346542</td>\n",
       "      <td>0.335724</td>\n",
       "      <td>0.264359</td>\n",
       "      <td>0.300018</td>\n",
       "      <td>-8.61768</td>\n",
       "      <td>68.24536</td>\n",
       "      <td>1_2019</td>\n",
       "      <td>-8.61768_68.24536</td>\n",
       "      <td>1_2019_-8.61768_68.24536</td>\n",
       "    </tr>\n",
       "    <tr>\n",
       "      <th>1</th>\n",
       "      <td>2019</td>\n",
       "      <td>2</td>\n",
       "      <td>-1.408560</td>\n",
       "      <td>-0.662555</td>\n",
       "      <td>292.943</td>\n",
       "      <td>297.978</td>\n",
       "      <td>-0.002556</td>\n",
       "      <td>-0.001076</td>\n",
       "      <td>-0.000734</td>\n",
       "      <td>-3.818420e-08</td>\n",
       "      <td>...</td>\n",
       "      <td>0.003201</td>\n",
       "      <td>0.254517</td>\n",
       "      <td>0.259918</td>\n",
       "      <td>0.281769</td>\n",
       "      <td>0.296188</td>\n",
       "      <td>-8.61768</td>\n",
       "      <td>68.24536</td>\n",
       "      <td>2_2019</td>\n",
       "      <td>-8.61768_68.24536</td>\n",
       "      <td>2_2019_-8.61768_68.24536</td>\n",
       "    </tr>\n",
       "    <tr>\n",
       "      <th>2</th>\n",
       "      <td>2019</td>\n",
       "      <td>3</td>\n",
       "      <td>-0.892110</td>\n",
       "      <td>-0.449448</td>\n",
       "      <td>293.250</td>\n",
       "      <td>297.989</td>\n",
       "      <td>-0.002535</td>\n",
       "      <td>-0.000980</td>\n",
       "      <td>-0.000713</td>\n",
       "      <td>-3.678720e-08</td>\n",
       "      <td>...</td>\n",
       "      <td>0.004682</td>\n",
       "      <td>0.278152</td>\n",
       "      <td>0.284195</td>\n",
       "      <td>0.261597</td>\n",
       "      <td>0.291672</td>\n",
       "      <td>-8.61768</td>\n",
       "      <td>68.24536</td>\n",
       "      <td>3_2019</td>\n",
       "      <td>-8.61768_68.24536</td>\n",
       "      <td>3_2019_-8.61768_68.24536</td>\n",
       "    </tr>\n",
       "    <tr>\n",
       "      <th>3</th>\n",
       "      <td>2019</td>\n",
       "      <td>4</td>\n",
       "      <td>-0.392348</td>\n",
       "      <td>0.384925</td>\n",
       "      <td>293.934</td>\n",
       "      <td>296.542</td>\n",
       "      <td>-0.001748</td>\n",
       "      <td>-0.000658</td>\n",
       "      <td>-0.001343</td>\n",
       "      <td>-2.700840e-08</td>\n",
       "      <td>...</td>\n",
       "      <td>0.007518</td>\n",
       "      <td>0.385513</td>\n",
       "      <td>0.378616</td>\n",
       "      <td>0.309784</td>\n",
       "      <td>0.288925</td>\n",
       "      <td>-8.61768</td>\n",
       "      <td>68.24536</td>\n",
       "      <td>4_2019</td>\n",
       "      <td>-8.61768_68.24536</td>\n",
       "      <td>4_2019_-8.61768_68.24536</td>\n",
       "    </tr>\n",
       "    <tr>\n",
       "      <th>4</th>\n",
       "      <td>2019</td>\n",
       "      <td>5</td>\n",
       "      <td>-0.447104</td>\n",
       "      <td>0.581028</td>\n",
       "      <td>292.571</td>\n",
       "      <td>294.726</td>\n",
       "      <td>-0.001374</td>\n",
       "      <td>-0.000462</td>\n",
       "      <td>-0.001139</td>\n",
       "      <td>-2.048910e-08</td>\n",
       "      <td>...</td>\n",
       "      <td>0.005989</td>\n",
       "      <td>0.397659</td>\n",
       "      <td>0.400055</td>\n",
       "      <td>0.392654</td>\n",
       "      <td>0.309311</td>\n",
       "      <td>-8.61768</td>\n",
       "      <td>68.24536</td>\n",
       "      <td>5_2019</td>\n",
       "      <td>-8.61768_68.24536</td>\n",
       "      <td>5_2019_-8.61768_68.24536</td>\n",
       "    </tr>\n",
       "  </tbody>\n",
       "</table>\n",
       "<p>5 rows × 43 columns</p>\n",
       "</div>"
      ]
     },
     "execution_count": 6,
     "metadata": {},
     "output_type": "execute_result"
    }
   ],
   "execution_count": 6
  },
  {
   "cell_type": "code",
   "metadata": {
    "ExecuteTime": {
     "end_time": "2025-01-08T04:56:58.254273Z",
     "start_time": "2025-01-08T04:56:58.202897Z"
    }
   },
   "source": [
    "#  toilets drop any duplicated and missing values\n",
    "toilets = toilets.drop_duplicates()\n",
    "toilets = toilets.dropna()"
   ],
   "outputs": [],
   "execution_count": 7
  },
  {
   "cell_type": "code",
   "metadata": {
    "ExecuteTime": {
     "end_time": "2025-01-08T04:57:01.733852Z",
     "start_time": "2025-01-08T04:57:01.671537Z"
    }
   },
   "source": [
    "# describe toilets\n",
    "toilets.describe()"
   ],
   "outputs": [
    {
     "data": {
      "text/plain": [
       "              Year         Month           10u           10v            2d  \\\n",
       "count  10680.00000  10680.000000  10680.000000  10680.000000  10680.000000   \n",
       "mean    2021.00000      6.500000     -0.883593      0.164881    291.068738   \n",
       "std        1.41428      3.452214      0.467480      0.598086      2.476718   \n",
       "min     2019.00000      1.000000     -2.186940     -0.866400    286.144000   \n",
       "25%     2020.00000      3.750000     -1.232540     -0.408200    288.471000   \n",
       "50%     2021.00000      6.500000     -0.892110      0.218002    292.106000   \n",
       "75%     2022.00000      9.250000     -0.456618      0.666530    293.181000   \n",
       "max     2023.00000     12.000000      0.168609      1.355880    295.323000   \n",
       "\n",
       "                2t         evabs         evaow         evatc         evavt  \\\n",
       "count  10680.00000  10680.000000  10680.000000  10680.000000  1.068000e+04   \n",
       "mean     296.24792     -0.001537     -0.000633     -0.000591 -1.002626e-05   \n",
       "std        1.45429      0.000635      0.000283      0.000417  1.883289e-05   \n",
       "min      292.26100     -0.003307     -0.001376     -0.002149 -8.422280e-05   \n",
       "25%      295.09900     -0.002074     -0.000832     -0.000902 -2.468000e-07   \n",
       "50%      296.42100     -0.001487     -0.000580     -0.000414 -3.073360e-08   \n",
       "75%      297.36000     -0.001005     -0.000416     -0.000238 -1.839360e-08   \n",
       "max      299.87100     -0.000250     -0.000086     -0.000060  4.656610e-10   \n",
       "\n",
       "       ...          ssrd          strd             e            tp  \\\n",
       "count  ...  1.068000e+04  1.068000e+04  10680.000000  10680.000000   \n",
       "mean   ...  1.716680e+07  2.990567e+07     -0.002771      0.003256   \n",
       "std    ...  3.617339e+06  7.339367e+06      0.001134      0.003123   \n",
       "min    ...  9.721450e+06  1.685050e+07     -0.004830      0.000176   \n",
       "25%    ...  1.391440e+07  1.864462e+07     -0.003749      0.000676   \n",
       "50%    ...  1.763230e+07  3.337250e+07     -0.002589      0.002018   \n",
       "75%    ...  2.002040e+07  3.543040e+07     -0.001804      0.005264   \n",
       "max    ...  2.390000e+07  3.617010e+07     -0.000433      0.016407   \n",
       "\n",
       "              swvl1         swvl2         swvl3         swvl4  \\\n",
       "count  10680.000000  10680.000000  10680.000000  10680.000000   \n",
       "mean       0.253805      0.264232      0.271608      0.297233   \n",
       "std        0.097400      0.087247      0.068554      0.046284   \n",
       "min        0.109100      0.133270      0.146423      0.191055   \n",
       "25%        0.154800      0.181656      0.215134      0.263046   \n",
       "50%        0.254517      0.270798      0.264359      0.296188   \n",
       "75%        0.339630      0.338516      0.317154      0.321014   \n",
       "max        0.415741      0.418869      0.420380      0.426147   \n",
       "\n",
       "       Transformed_Latitude  Transformed_Longitude  \n",
       "count          10680.000000           10680.000000  \n",
       "mean              -8.601758              68.247897  \n",
       "std                0.045444               0.033442  \n",
       "min               -8.708540              68.168000  \n",
       "25%               -8.627610              68.224370  \n",
       "50%               -8.614260              68.246670  \n",
       "75%               -8.571020              68.256890  \n",
       "max               -8.472900              68.327870  \n",
       "\n",
       "[8 rows x 40 columns]"
      ],
      "text/html": [
       "<div>\n",
       "<style scoped>\n",
       "    .dataframe tbody tr th:only-of-type {\n",
       "        vertical-align: middle;\n",
       "    }\n",
       "\n",
       "    .dataframe tbody tr th {\n",
       "        vertical-align: top;\n",
       "    }\n",
       "\n",
       "    .dataframe thead th {\n",
       "        text-align: right;\n",
       "    }\n",
       "</style>\n",
       "<table border=\"1\" class=\"dataframe\">\n",
       "  <thead>\n",
       "    <tr style=\"text-align: right;\">\n",
       "      <th></th>\n",
       "      <th>Year</th>\n",
       "      <th>Month</th>\n",
       "      <th>10u</th>\n",
       "      <th>10v</th>\n",
       "      <th>2d</th>\n",
       "      <th>2t</th>\n",
       "      <th>evabs</th>\n",
       "      <th>evaow</th>\n",
       "      <th>evatc</th>\n",
       "      <th>evavt</th>\n",
       "      <th>...</th>\n",
       "      <th>ssrd</th>\n",
       "      <th>strd</th>\n",
       "      <th>e</th>\n",
       "      <th>tp</th>\n",
       "      <th>swvl1</th>\n",
       "      <th>swvl2</th>\n",
       "      <th>swvl3</th>\n",
       "      <th>swvl4</th>\n",
       "      <th>Transformed_Latitude</th>\n",
       "      <th>Transformed_Longitude</th>\n",
       "    </tr>\n",
       "  </thead>\n",
       "  <tbody>\n",
       "    <tr>\n",
       "      <th>count</th>\n",
       "      <td>10680.00000</td>\n",
       "      <td>10680.000000</td>\n",
       "      <td>10680.000000</td>\n",
       "      <td>10680.000000</td>\n",
       "      <td>10680.000000</td>\n",
       "      <td>10680.00000</td>\n",
       "      <td>10680.000000</td>\n",
       "      <td>10680.000000</td>\n",
       "      <td>10680.000000</td>\n",
       "      <td>1.068000e+04</td>\n",
       "      <td>...</td>\n",
       "      <td>1.068000e+04</td>\n",
       "      <td>1.068000e+04</td>\n",
       "      <td>10680.000000</td>\n",
       "      <td>10680.000000</td>\n",
       "      <td>10680.000000</td>\n",
       "      <td>10680.000000</td>\n",
       "      <td>10680.000000</td>\n",
       "      <td>10680.000000</td>\n",
       "      <td>10680.000000</td>\n",
       "      <td>10680.000000</td>\n",
       "    </tr>\n",
       "    <tr>\n",
       "      <th>mean</th>\n",
       "      <td>2021.00000</td>\n",
       "      <td>6.500000</td>\n",
       "      <td>-0.883593</td>\n",
       "      <td>0.164881</td>\n",
       "      <td>291.068738</td>\n",
       "      <td>296.24792</td>\n",
       "      <td>-0.001537</td>\n",
       "      <td>-0.000633</td>\n",
       "      <td>-0.000591</td>\n",
       "      <td>-1.002626e-05</td>\n",
       "      <td>...</td>\n",
       "      <td>1.716680e+07</td>\n",
       "      <td>2.990567e+07</td>\n",
       "      <td>-0.002771</td>\n",
       "      <td>0.003256</td>\n",
       "      <td>0.253805</td>\n",
       "      <td>0.264232</td>\n",
       "      <td>0.271608</td>\n",
       "      <td>0.297233</td>\n",
       "      <td>-8.601758</td>\n",
       "      <td>68.247897</td>\n",
       "    </tr>\n",
       "    <tr>\n",
       "      <th>std</th>\n",
       "      <td>1.41428</td>\n",
       "      <td>3.452214</td>\n",
       "      <td>0.467480</td>\n",
       "      <td>0.598086</td>\n",
       "      <td>2.476718</td>\n",
       "      <td>1.45429</td>\n",
       "      <td>0.000635</td>\n",
       "      <td>0.000283</td>\n",
       "      <td>0.000417</td>\n",
       "      <td>1.883289e-05</td>\n",
       "      <td>...</td>\n",
       "      <td>3.617339e+06</td>\n",
       "      <td>7.339367e+06</td>\n",
       "      <td>0.001134</td>\n",
       "      <td>0.003123</td>\n",
       "      <td>0.097400</td>\n",
       "      <td>0.087247</td>\n",
       "      <td>0.068554</td>\n",
       "      <td>0.046284</td>\n",
       "      <td>0.045444</td>\n",
       "      <td>0.033442</td>\n",
       "    </tr>\n",
       "    <tr>\n",
       "      <th>min</th>\n",
       "      <td>2019.00000</td>\n",
       "      <td>1.000000</td>\n",
       "      <td>-2.186940</td>\n",
       "      <td>-0.866400</td>\n",
       "      <td>286.144000</td>\n",
       "      <td>292.26100</td>\n",
       "      <td>-0.003307</td>\n",
       "      <td>-0.001376</td>\n",
       "      <td>-0.002149</td>\n",
       "      <td>-8.422280e-05</td>\n",
       "      <td>...</td>\n",
       "      <td>9.721450e+06</td>\n",
       "      <td>1.685050e+07</td>\n",
       "      <td>-0.004830</td>\n",
       "      <td>0.000176</td>\n",
       "      <td>0.109100</td>\n",
       "      <td>0.133270</td>\n",
       "      <td>0.146423</td>\n",
       "      <td>0.191055</td>\n",
       "      <td>-8.708540</td>\n",
       "      <td>68.168000</td>\n",
       "    </tr>\n",
       "    <tr>\n",
       "      <th>25%</th>\n",
       "      <td>2020.00000</td>\n",
       "      <td>3.750000</td>\n",
       "      <td>-1.232540</td>\n",
       "      <td>-0.408200</td>\n",
       "      <td>288.471000</td>\n",
       "      <td>295.09900</td>\n",
       "      <td>-0.002074</td>\n",
       "      <td>-0.000832</td>\n",
       "      <td>-0.000902</td>\n",
       "      <td>-2.468000e-07</td>\n",
       "      <td>...</td>\n",
       "      <td>1.391440e+07</td>\n",
       "      <td>1.864462e+07</td>\n",
       "      <td>-0.003749</td>\n",
       "      <td>0.000676</td>\n",
       "      <td>0.154800</td>\n",
       "      <td>0.181656</td>\n",
       "      <td>0.215134</td>\n",
       "      <td>0.263046</td>\n",
       "      <td>-8.627610</td>\n",
       "      <td>68.224370</td>\n",
       "    </tr>\n",
       "    <tr>\n",
       "      <th>50%</th>\n",
       "      <td>2021.00000</td>\n",
       "      <td>6.500000</td>\n",
       "      <td>-0.892110</td>\n",
       "      <td>0.218002</td>\n",
       "      <td>292.106000</td>\n",
       "      <td>296.42100</td>\n",
       "      <td>-0.001487</td>\n",
       "      <td>-0.000580</td>\n",
       "      <td>-0.000414</td>\n",
       "      <td>-3.073360e-08</td>\n",
       "      <td>...</td>\n",
       "      <td>1.763230e+07</td>\n",
       "      <td>3.337250e+07</td>\n",
       "      <td>-0.002589</td>\n",
       "      <td>0.002018</td>\n",
       "      <td>0.254517</td>\n",
       "      <td>0.270798</td>\n",
       "      <td>0.264359</td>\n",
       "      <td>0.296188</td>\n",
       "      <td>-8.614260</td>\n",
       "      <td>68.246670</td>\n",
       "    </tr>\n",
       "    <tr>\n",
       "      <th>75%</th>\n",
       "      <td>2022.00000</td>\n",
       "      <td>9.250000</td>\n",
       "      <td>-0.456618</td>\n",
       "      <td>0.666530</td>\n",
       "      <td>293.181000</td>\n",
       "      <td>297.36000</td>\n",
       "      <td>-0.001005</td>\n",
       "      <td>-0.000416</td>\n",
       "      <td>-0.000238</td>\n",
       "      <td>-1.839360e-08</td>\n",
       "      <td>...</td>\n",
       "      <td>2.002040e+07</td>\n",
       "      <td>3.543040e+07</td>\n",
       "      <td>-0.001804</td>\n",
       "      <td>0.005264</td>\n",
       "      <td>0.339630</td>\n",
       "      <td>0.338516</td>\n",
       "      <td>0.317154</td>\n",
       "      <td>0.321014</td>\n",
       "      <td>-8.571020</td>\n",
       "      <td>68.256890</td>\n",
       "    </tr>\n",
       "    <tr>\n",
       "      <th>max</th>\n",
       "      <td>2023.00000</td>\n",
       "      <td>12.000000</td>\n",
       "      <td>0.168609</td>\n",
       "      <td>1.355880</td>\n",
       "      <td>295.323000</td>\n",
       "      <td>299.87100</td>\n",
       "      <td>-0.000250</td>\n",
       "      <td>-0.000086</td>\n",
       "      <td>-0.000060</td>\n",
       "      <td>4.656610e-10</td>\n",
       "      <td>...</td>\n",
       "      <td>2.390000e+07</td>\n",
       "      <td>3.617010e+07</td>\n",
       "      <td>-0.000433</td>\n",
       "      <td>0.016407</td>\n",
       "      <td>0.415741</td>\n",
       "      <td>0.418869</td>\n",
       "      <td>0.420380</td>\n",
       "      <td>0.426147</td>\n",
       "      <td>-8.472900</td>\n",
       "      <td>68.327870</td>\n",
       "    </tr>\n",
       "  </tbody>\n",
       "</table>\n",
       "<p>8 rows × 40 columns</p>\n",
       "</div>"
      ]
     },
     "execution_count": 8,
     "metadata": {},
     "output_type": "execute_result"
    }
   ],
   "execution_count": 8
  },
  {
   "cell_type": "markdown",
   "metadata": {},
   "source": [
    "The toilets data contains location information and the type of toilet facility available in the location based on specific date and time of the year "
   ]
  },
  {
   "cell_type": "code",
   "metadata": {
    "ExecuteTime": {
     "end_time": "2025-01-08T04:57:05.968762Z",
     "start_time": "2025-01-08T04:57:05.963269Z"
    }
   },
   "source": [
    "# waste_management shape\n",
    "waste_management.shape"
   ],
   "outputs": [
    {
     "data": {
      "text/plain": [
       "(5100, 43)"
      ]
     },
     "execution_count": 9,
     "metadata": {},
     "output_type": "execute_result"
    }
   ],
   "execution_count": 9
  },
  {
   "cell_type": "code",
   "metadata": {
    "ExecuteTime": {
     "end_time": "2025-01-08T04:57:08.444704Z",
     "start_time": "2025-01-08T04:57:08.421436Z"
    }
   },
   "source": [
    "# sample waste_management\n",
    "waste_management.head()"
   ],
   "outputs": [
    {
     "data": {
      "text/plain": [
       "   Year  Month       10u       10v       2d       2t     evabs     evaow  \\\n",
       "0  2019      1 -1.006850 -0.714544  293.502  297.417 -0.002489 -0.001031   \n",
       "1  2019      2 -1.408560 -0.662555  292.943  297.978 -0.002556 -0.001076   \n",
       "2  2019      3 -0.892110 -0.449448  293.250  297.989 -0.002535 -0.000980   \n",
       "3  2019      4 -0.392348  0.384925  293.934  296.542 -0.001748 -0.000658   \n",
       "4  2019      5 -0.447104  0.581028  292.571  294.726 -0.001374 -0.000462   \n",
       "\n",
       "      evatc         evavt  ...        tp     swvl1     swvl2     swvl3  \\\n",
       "0 -0.000989 -3.445890e-08  ...  0.006655  0.346542  0.335724  0.264359   \n",
       "1 -0.000734 -3.818420e-08  ...  0.003201  0.254517  0.259918  0.281769   \n",
       "2 -0.000713 -3.678720e-08  ...  0.004682  0.278152  0.284195  0.261597   \n",
       "3 -0.001343 -2.700840e-08  ...  0.007518  0.385513  0.378616  0.309784   \n",
       "4 -0.001139 -2.048910e-08  ...  0.005989  0.397659  0.400055  0.392654   \n",
       "\n",
       "      swvl4  Transformed_Latitude  Transformed_Longitude  Month_Year  \\\n",
       "0  0.300018              -8.58518               68.25058      1_2019   \n",
       "1  0.296188              -8.58518               68.25058      2_2019   \n",
       "2  0.291672              -8.58518               68.25058      3_2019   \n",
       "3  0.288925              -8.58518               68.25058      4_2019   \n",
       "4  0.309311              -8.58518               68.25058      5_2019   \n",
       "\n",
       "             lat_lon        Month_Year_lat_lon  \n",
       "0  -8.58518_68.25058  1_2019_-8.58518_68.25058  \n",
       "1  -8.58518_68.25058  2_2019_-8.58518_68.25058  \n",
       "2  -8.58518_68.25058  3_2019_-8.58518_68.25058  \n",
       "3  -8.58518_68.25058  4_2019_-8.58518_68.25058  \n",
       "4  -8.58518_68.25058  5_2019_-8.58518_68.25058  \n",
       "\n",
       "[5 rows x 43 columns]"
      ],
      "text/html": [
       "<div>\n",
       "<style scoped>\n",
       "    .dataframe tbody tr th:only-of-type {\n",
       "        vertical-align: middle;\n",
       "    }\n",
       "\n",
       "    .dataframe tbody tr th {\n",
       "        vertical-align: top;\n",
       "    }\n",
       "\n",
       "    .dataframe thead th {\n",
       "        text-align: right;\n",
       "    }\n",
       "</style>\n",
       "<table border=\"1\" class=\"dataframe\">\n",
       "  <thead>\n",
       "    <tr style=\"text-align: right;\">\n",
       "      <th></th>\n",
       "      <th>Year</th>\n",
       "      <th>Month</th>\n",
       "      <th>10u</th>\n",
       "      <th>10v</th>\n",
       "      <th>2d</th>\n",
       "      <th>2t</th>\n",
       "      <th>evabs</th>\n",
       "      <th>evaow</th>\n",
       "      <th>evatc</th>\n",
       "      <th>evavt</th>\n",
       "      <th>...</th>\n",
       "      <th>tp</th>\n",
       "      <th>swvl1</th>\n",
       "      <th>swvl2</th>\n",
       "      <th>swvl3</th>\n",
       "      <th>swvl4</th>\n",
       "      <th>Transformed_Latitude</th>\n",
       "      <th>Transformed_Longitude</th>\n",
       "      <th>Month_Year</th>\n",
       "      <th>lat_lon</th>\n",
       "      <th>Month_Year_lat_lon</th>\n",
       "    </tr>\n",
       "  </thead>\n",
       "  <tbody>\n",
       "    <tr>\n",
       "      <th>0</th>\n",
       "      <td>2019</td>\n",
       "      <td>1</td>\n",
       "      <td>-1.006850</td>\n",
       "      <td>-0.714544</td>\n",
       "      <td>293.502</td>\n",
       "      <td>297.417</td>\n",
       "      <td>-0.002489</td>\n",
       "      <td>-0.001031</td>\n",
       "      <td>-0.000989</td>\n",
       "      <td>-3.445890e-08</td>\n",
       "      <td>...</td>\n",
       "      <td>0.006655</td>\n",
       "      <td>0.346542</td>\n",
       "      <td>0.335724</td>\n",
       "      <td>0.264359</td>\n",
       "      <td>0.300018</td>\n",
       "      <td>-8.58518</td>\n",
       "      <td>68.25058</td>\n",
       "      <td>1_2019</td>\n",
       "      <td>-8.58518_68.25058</td>\n",
       "      <td>1_2019_-8.58518_68.25058</td>\n",
       "    </tr>\n",
       "    <tr>\n",
       "      <th>1</th>\n",
       "      <td>2019</td>\n",
       "      <td>2</td>\n",
       "      <td>-1.408560</td>\n",
       "      <td>-0.662555</td>\n",
       "      <td>292.943</td>\n",
       "      <td>297.978</td>\n",
       "      <td>-0.002556</td>\n",
       "      <td>-0.001076</td>\n",
       "      <td>-0.000734</td>\n",
       "      <td>-3.818420e-08</td>\n",
       "      <td>...</td>\n",
       "      <td>0.003201</td>\n",
       "      <td>0.254517</td>\n",
       "      <td>0.259918</td>\n",
       "      <td>0.281769</td>\n",
       "      <td>0.296188</td>\n",
       "      <td>-8.58518</td>\n",
       "      <td>68.25058</td>\n",
       "      <td>2_2019</td>\n",
       "      <td>-8.58518_68.25058</td>\n",
       "      <td>2_2019_-8.58518_68.25058</td>\n",
       "    </tr>\n",
       "    <tr>\n",
       "      <th>2</th>\n",
       "      <td>2019</td>\n",
       "      <td>3</td>\n",
       "      <td>-0.892110</td>\n",
       "      <td>-0.449448</td>\n",
       "      <td>293.250</td>\n",
       "      <td>297.989</td>\n",
       "      <td>-0.002535</td>\n",
       "      <td>-0.000980</td>\n",
       "      <td>-0.000713</td>\n",
       "      <td>-3.678720e-08</td>\n",
       "      <td>...</td>\n",
       "      <td>0.004682</td>\n",
       "      <td>0.278152</td>\n",
       "      <td>0.284195</td>\n",
       "      <td>0.261597</td>\n",
       "      <td>0.291672</td>\n",
       "      <td>-8.58518</td>\n",
       "      <td>68.25058</td>\n",
       "      <td>3_2019</td>\n",
       "      <td>-8.58518_68.25058</td>\n",
       "      <td>3_2019_-8.58518_68.25058</td>\n",
       "    </tr>\n",
       "    <tr>\n",
       "      <th>3</th>\n",
       "      <td>2019</td>\n",
       "      <td>4</td>\n",
       "      <td>-0.392348</td>\n",
       "      <td>0.384925</td>\n",
       "      <td>293.934</td>\n",
       "      <td>296.542</td>\n",
       "      <td>-0.001748</td>\n",
       "      <td>-0.000658</td>\n",
       "      <td>-0.001343</td>\n",
       "      <td>-2.700840e-08</td>\n",
       "      <td>...</td>\n",
       "      <td>0.007518</td>\n",
       "      <td>0.385513</td>\n",
       "      <td>0.378616</td>\n",
       "      <td>0.309784</td>\n",
       "      <td>0.288925</td>\n",
       "      <td>-8.58518</td>\n",
       "      <td>68.25058</td>\n",
       "      <td>4_2019</td>\n",
       "      <td>-8.58518_68.25058</td>\n",
       "      <td>4_2019_-8.58518_68.25058</td>\n",
       "    </tr>\n",
       "    <tr>\n",
       "      <th>4</th>\n",
       "      <td>2019</td>\n",
       "      <td>5</td>\n",
       "      <td>-0.447104</td>\n",
       "      <td>0.581028</td>\n",
       "      <td>292.571</td>\n",
       "      <td>294.726</td>\n",
       "      <td>-0.001374</td>\n",
       "      <td>-0.000462</td>\n",
       "      <td>-0.001139</td>\n",
       "      <td>-2.048910e-08</td>\n",
       "      <td>...</td>\n",
       "      <td>0.005989</td>\n",
       "      <td>0.397659</td>\n",
       "      <td>0.400055</td>\n",
       "      <td>0.392654</td>\n",
       "      <td>0.309311</td>\n",
       "      <td>-8.58518</td>\n",
       "      <td>68.25058</td>\n",
       "      <td>5_2019</td>\n",
       "      <td>-8.58518_68.25058</td>\n",
       "      <td>5_2019_-8.58518_68.25058</td>\n",
       "    </tr>\n",
       "  </tbody>\n",
       "</table>\n",
       "<p>5 rows × 43 columns</p>\n",
       "</div>"
      ]
     },
     "execution_count": 10,
     "metadata": {},
     "output_type": "execute_result"
    }
   ],
   "execution_count": 10
  },
  {
   "cell_type": "code",
   "metadata": {
    "ExecuteTime": {
     "end_time": "2025-01-08T04:57:12.599661Z",
     "start_time": "2025-01-08T04:57:12.587979Z"
    }
   },
   "source": [
    "# waste_management drop any duplicated and missing values\n",
    "waste_management = waste_management.drop_duplicates()\n",
    "waste_management = waste_management.dropna()"
   ],
   "outputs": [],
   "execution_count": 11
  },
  {
   "cell_type": "code",
   "metadata": {
    "ExecuteTime": {
     "end_time": "2025-01-08T04:57:15.472335Z",
     "start_time": "2025-01-08T04:57:15.421629Z"
    }
   },
   "source": [
    "# describe waste_management\n",
    "waste_management.describe()"
   ],
   "outputs": [
    {
     "data": {
      "text/plain": [
       "              Year        Month          10u          10v           2d  \\\n",
       "count  5040.000000  5040.000000  5040.000000  5040.000000  5040.000000   \n",
       "mean   2021.000000     6.500000    -0.877055     0.154612   291.125793   \n",
       "std       1.414354     3.452395     0.468876     0.605426     2.468641   \n",
       "min    2019.000000     1.000000    -2.186940    -0.866400   286.339000   \n",
       "25%    2020.000000     3.750000    -1.232220    -0.410995   288.607000   \n",
       "50%    2021.000000     6.500000    -0.884062     0.183071   292.135000   \n",
       "75%    2022.000000     9.250000    -0.453149     0.663744   293.226000   \n",
       "max    2023.000000    12.000000     0.168609     1.355880   295.323000   \n",
       "\n",
       "                2t        evabs        evaow        evatc         evavt  ...  \\\n",
       "count  5040.000000  5040.000000  5040.000000  5040.000000  5.040000e+03  ...   \n",
       "mean    296.341965    -0.001514    -0.000656    -0.000580 -1.407889e-05  ...   \n",
       "std       1.456177     0.000623     0.000284     0.000406  2.114027e-05  ...   \n",
       "min     292.732000    -0.002696    -0.001376    -0.001747 -8.422280e-05  ...   \n",
       "25%     295.138000    -0.002063    -0.000892    -0.000898 -3.386240e-05  ...   \n",
       "50%     296.465000    -0.001454    -0.000591    -0.000410 -3.119930e-08  ...   \n",
       "75%     297.418000    -0.001003    -0.000430    -0.000238 -1.816080e-08  ...   \n",
       "max     299.871000    -0.000250    -0.000110    -0.000060  4.656610e-10  ...   \n",
       "\n",
       "               ssrd          strd            e           tp        swvl1  \\\n",
       "count  5.040000e+03  5.040000e+03  5040.000000  5040.000000  5040.000000   \n",
       "mean   1.716351e+07  2.990946e+07    -0.002764     0.003221     0.252440   \n",
       "std    3.619936e+06  7.340451e+06     0.001130     0.003082     0.097592   \n",
       "min    9.721450e+06  1.686730e+07    -0.004830     0.000176     0.109100   \n",
       "25%    1.391185e+07  1.864905e+07    -0.003737     0.000676     0.154144   \n",
       "50%    1.763230e+07  3.340020e+07    -0.002598     0.002018     0.254257   \n",
       "75%    2.002040e+07  3.543520e+07    -0.001804     0.005229     0.339630   \n",
       "max    2.390000e+07  3.617010e+07    -0.000433     0.015352     0.415741   \n",
       "\n",
       "             swvl2        swvl3        swvl4  Transformed_Latitude  \\\n",
       "count  5040.000000  5040.000000  5040.000000           5040.000000   \n",
       "mean      0.263770     0.271086     0.296083             -8.596440   \n",
       "std       0.086986     0.068431     0.046742              0.042800   \n",
       "min       0.133270     0.146423     0.191055             -8.684240   \n",
       "25%       0.181656     0.215134     0.261520             -8.621488   \n",
       "50%       0.264404     0.262558     0.294815             -8.605515   \n",
       "75%       0.335724     0.317154     0.320496             -8.574300   \n",
       "max       0.418869     0.420380     0.426147             -8.472900   \n",
       "\n",
       "       Transformed_Longitude  \n",
       "count            5040.000000  \n",
       "mean               68.241692  \n",
       "std                 0.032802  \n",
       "min                68.166860  \n",
       "25%                68.219207  \n",
       "50%                68.238730  \n",
       "75%                68.255380  \n",
       "max                68.329210  \n",
       "\n",
       "[8 rows x 40 columns]"
      ],
      "text/html": [
       "<div>\n",
       "<style scoped>\n",
       "    .dataframe tbody tr th:only-of-type {\n",
       "        vertical-align: middle;\n",
       "    }\n",
       "\n",
       "    .dataframe tbody tr th {\n",
       "        vertical-align: top;\n",
       "    }\n",
       "\n",
       "    .dataframe thead th {\n",
       "        text-align: right;\n",
       "    }\n",
       "</style>\n",
       "<table border=\"1\" class=\"dataframe\">\n",
       "  <thead>\n",
       "    <tr style=\"text-align: right;\">\n",
       "      <th></th>\n",
       "      <th>Year</th>\n",
       "      <th>Month</th>\n",
       "      <th>10u</th>\n",
       "      <th>10v</th>\n",
       "      <th>2d</th>\n",
       "      <th>2t</th>\n",
       "      <th>evabs</th>\n",
       "      <th>evaow</th>\n",
       "      <th>evatc</th>\n",
       "      <th>evavt</th>\n",
       "      <th>...</th>\n",
       "      <th>ssrd</th>\n",
       "      <th>strd</th>\n",
       "      <th>e</th>\n",
       "      <th>tp</th>\n",
       "      <th>swvl1</th>\n",
       "      <th>swvl2</th>\n",
       "      <th>swvl3</th>\n",
       "      <th>swvl4</th>\n",
       "      <th>Transformed_Latitude</th>\n",
       "      <th>Transformed_Longitude</th>\n",
       "    </tr>\n",
       "  </thead>\n",
       "  <tbody>\n",
       "    <tr>\n",
       "      <th>count</th>\n",
       "      <td>5040.000000</td>\n",
       "      <td>5040.000000</td>\n",
       "      <td>5040.000000</td>\n",
       "      <td>5040.000000</td>\n",
       "      <td>5040.000000</td>\n",
       "      <td>5040.000000</td>\n",
       "      <td>5040.000000</td>\n",
       "      <td>5040.000000</td>\n",
       "      <td>5040.000000</td>\n",
       "      <td>5.040000e+03</td>\n",
       "      <td>...</td>\n",
       "      <td>5.040000e+03</td>\n",
       "      <td>5.040000e+03</td>\n",
       "      <td>5040.000000</td>\n",
       "      <td>5040.000000</td>\n",
       "      <td>5040.000000</td>\n",
       "      <td>5040.000000</td>\n",
       "      <td>5040.000000</td>\n",
       "      <td>5040.000000</td>\n",
       "      <td>5040.000000</td>\n",
       "      <td>5040.000000</td>\n",
       "    </tr>\n",
       "    <tr>\n",
       "      <th>mean</th>\n",
       "      <td>2021.000000</td>\n",
       "      <td>6.500000</td>\n",
       "      <td>-0.877055</td>\n",
       "      <td>0.154612</td>\n",
       "      <td>291.125793</td>\n",
       "      <td>296.341965</td>\n",
       "      <td>-0.001514</td>\n",
       "      <td>-0.000656</td>\n",
       "      <td>-0.000580</td>\n",
       "      <td>-1.407889e-05</td>\n",
       "      <td>...</td>\n",
       "      <td>1.716351e+07</td>\n",
       "      <td>2.990946e+07</td>\n",
       "      <td>-0.002764</td>\n",
       "      <td>0.003221</td>\n",
       "      <td>0.252440</td>\n",
       "      <td>0.263770</td>\n",
       "      <td>0.271086</td>\n",
       "      <td>0.296083</td>\n",
       "      <td>-8.596440</td>\n",
       "      <td>68.241692</td>\n",
       "    </tr>\n",
       "    <tr>\n",
       "      <th>std</th>\n",
       "      <td>1.414354</td>\n",
       "      <td>3.452395</td>\n",
       "      <td>0.468876</td>\n",
       "      <td>0.605426</td>\n",
       "      <td>2.468641</td>\n",
       "      <td>1.456177</td>\n",
       "      <td>0.000623</td>\n",
       "      <td>0.000284</td>\n",
       "      <td>0.000406</td>\n",
       "      <td>2.114027e-05</td>\n",
       "      <td>...</td>\n",
       "      <td>3.619936e+06</td>\n",
       "      <td>7.340451e+06</td>\n",
       "      <td>0.001130</td>\n",
       "      <td>0.003082</td>\n",
       "      <td>0.097592</td>\n",
       "      <td>0.086986</td>\n",
       "      <td>0.068431</td>\n",
       "      <td>0.046742</td>\n",
       "      <td>0.042800</td>\n",
       "      <td>0.032802</td>\n",
       "    </tr>\n",
       "    <tr>\n",
       "      <th>min</th>\n",
       "      <td>2019.000000</td>\n",
       "      <td>1.000000</td>\n",
       "      <td>-2.186940</td>\n",
       "      <td>-0.866400</td>\n",
       "      <td>286.339000</td>\n",
       "      <td>292.732000</td>\n",
       "      <td>-0.002696</td>\n",
       "      <td>-0.001376</td>\n",
       "      <td>-0.001747</td>\n",
       "      <td>-8.422280e-05</td>\n",
       "      <td>...</td>\n",
       "      <td>9.721450e+06</td>\n",
       "      <td>1.686730e+07</td>\n",
       "      <td>-0.004830</td>\n",
       "      <td>0.000176</td>\n",
       "      <td>0.109100</td>\n",
       "      <td>0.133270</td>\n",
       "      <td>0.146423</td>\n",
       "      <td>0.191055</td>\n",
       "      <td>-8.684240</td>\n",
       "      <td>68.166860</td>\n",
       "    </tr>\n",
       "    <tr>\n",
       "      <th>25%</th>\n",
       "      <td>2020.000000</td>\n",
       "      <td>3.750000</td>\n",
       "      <td>-1.232220</td>\n",
       "      <td>-0.410995</td>\n",
       "      <td>288.607000</td>\n",
       "      <td>295.138000</td>\n",
       "      <td>-0.002063</td>\n",
       "      <td>-0.000892</td>\n",
       "      <td>-0.000898</td>\n",
       "      <td>-3.386240e-05</td>\n",
       "      <td>...</td>\n",
       "      <td>1.391185e+07</td>\n",
       "      <td>1.864905e+07</td>\n",
       "      <td>-0.003737</td>\n",
       "      <td>0.000676</td>\n",
       "      <td>0.154144</td>\n",
       "      <td>0.181656</td>\n",
       "      <td>0.215134</td>\n",
       "      <td>0.261520</td>\n",
       "      <td>-8.621488</td>\n",
       "      <td>68.219207</td>\n",
       "    </tr>\n",
       "    <tr>\n",
       "      <th>50%</th>\n",
       "      <td>2021.000000</td>\n",
       "      <td>6.500000</td>\n",
       "      <td>-0.884062</td>\n",
       "      <td>0.183071</td>\n",
       "      <td>292.135000</td>\n",
       "      <td>296.465000</td>\n",
       "      <td>-0.001454</td>\n",
       "      <td>-0.000591</td>\n",
       "      <td>-0.000410</td>\n",
       "      <td>-3.119930e-08</td>\n",
       "      <td>...</td>\n",
       "      <td>1.763230e+07</td>\n",
       "      <td>3.340020e+07</td>\n",
       "      <td>-0.002598</td>\n",
       "      <td>0.002018</td>\n",
       "      <td>0.254257</td>\n",
       "      <td>0.264404</td>\n",
       "      <td>0.262558</td>\n",
       "      <td>0.294815</td>\n",
       "      <td>-8.605515</td>\n",
       "      <td>68.238730</td>\n",
       "    </tr>\n",
       "    <tr>\n",
       "      <th>75%</th>\n",
       "      <td>2022.000000</td>\n",
       "      <td>9.250000</td>\n",
       "      <td>-0.453149</td>\n",
       "      <td>0.663744</td>\n",
       "      <td>293.226000</td>\n",
       "      <td>297.418000</td>\n",
       "      <td>-0.001003</td>\n",
       "      <td>-0.000430</td>\n",
       "      <td>-0.000238</td>\n",
       "      <td>-1.816080e-08</td>\n",
       "      <td>...</td>\n",
       "      <td>2.002040e+07</td>\n",
       "      <td>3.543520e+07</td>\n",
       "      <td>-0.001804</td>\n",
       "      <td>0.005229</td>\n",
       "      <td>0.339630</td>\n",
       "      <td>0.335724</td>\n",
       "      <td>0.317154</td>\n",
       "      <td>0.320496</td>\n",
       "      <td>-8.574300</td>\n",
       "      <td>68.255380</td>\n",
       "    </tr>\n",
       "    <tr>\n",
       "      <th>max</th>\n",
       "      <td>2023.000000</td>\n",
       "      <td>12.000000</td>\n",
       "      <td>0.168609</td>\n",
       "      <td>1.355880</td>\n",
       "      <td>295.323000</td>\n",
       "      <td>299.871000</td>\n",
       "      <td>-0.000250</td>\n",
       "      <td>-0.000110</td>\n",
       "      <td>-0.000060</td>\n",
       "      <td>4.656610e-10</td>\n",
       "      <td>...</td>\n",
       "      <td>2.390000e+07</td>\n",
       "      <td>3.617010e+07</td>\n",
       "      <td>-0.000433</td>\n",
       "      <td>0.015352</td>\n",
       "      <td>0.415741</td>\n",
       "      <td>0.418869</td>\n",
       "      <td>0.420380</td>\n",
       "      <td>0.426147</td>\n",
       "      <td>-8.472900</td>\n",
       "      <td>68.329210</td>\n",
       "    </tr>\n",
       "  </tbody>\n",
       "</table>\n",
       "<p>8 rows × 40 columns</p>\n",
       "</div>"
      ]
     },
     "execution_count": 12,
     "metadata": {},
     "output_type": "execute_result"
    }
   ],
   "execution_count": 12
  },
  {
   "cell_type": "code",
   "metadata": {
    "ExecuteTime": {
     "end_time": "2025-01-08T04:57:20.726646Z",
     "start_time": "2025-01-08T04:57:20.718481Z"
    }
   },
   "source": [
    "# water_sources shape\n",
    "water_sources.shape"
   ],
   "outputs": [
    {
     "data": {
      "text/plain": [
       "(10560, 43)"
      ]
     },
     "execution_count": 13,
     "metadata": {},
     "output_type": "execute_result"
    }
   ],
   "execution_count": 13
  },
  {
   "cell_type": "code",
   "metadata": {
    "ExecuteTime": {
     "end_time": "2025-01-08T04:57:23.813698Z",
     "start_time": "2025-01-08T04:57:23.796465Z"
    }
   },
   "source": [
    "# sample water_sources\n",
    "water_sources.head()"
   ],
   "outputs": [
    {
     "data": {
      "text/plain": [
       "   Year  Month       10u       10v       2d       2t     evabs     evaow  \\\n",
       "0  2019      1 -1.006850 -0.714544  293.502  297.417 -0.002489 -0.001031   \n",
       "1  2019      2 -1.408560 -0.662555  292.943  297.978 -0.002556 -0.001076   \n",
       "2  2019      3 -0.892110 -0.449448  293.250  297.989 -0.002535 -0.000980   \n",
       "3  2019      4 -0.392348  0.384925  293.934  296.542 -0.001748 -0.000658   \n",
       "4  2019      5 -0.447104  0.581028  292.571  294.726 -0.001374 -0.000462   \n",
       "\n",
       "      evatc         evavt  ...        tp     swvl1     swvl2     swvl3  \\\n",
       "0 -0.000989 -3.445890e-08  ...  0.006655  0.346542  0.335724  0.264359   \n",
       "1 -0.000734 -3.818420e-08  ...  0.003201  0.254517  0.259918  0.281769   \n",
       "2 -0.000713 -3.678720e-08  ...  0.004682  0.278152  0.284195  0.261597   \n",
       "3 -0.001343 -2.700840e-08  ...  0.007518  0.385513  0.378616  0.309784   \n",
       "4 -0.001139 -2.048910e-08  ...  0.005989  0.397659  0.400055  0.392654   \n",
       "\n",
       "      swvl4  Transformed_Latitude  Transformed_Longitude  Month_Year  \\\n",
       "0  0.300018              -8.57424               68.23761      1_2019   \n",
       "1  0.296188              -8.57424               68.23761      2_2019   \n",
       "2  0.291672              -8.57424               68.23761      3_2019   \n",
       "3  0.288925              -8.57424               68.23761      4_2019   \n",
       "4  0.309311              -8.57424               68.23761      5_2019   \n",
       "\n",
       "             lat_lon        Month_Year_lat_lon  \n",
       "0  -8.57424_68.23761  1_2019_-8.57424_68.23761  \n",
       "1  -8.57424_68.23761  2_2019_-8.57424_68.23761  \n",
       "2  -8.57424_68.23761  3_2019_-8.57424_68.23761  \n",
       "3  -8.57424_68.23761  4_2019_-8.57424_68.23761  \n",
       "4  -8.57424_68.23761  5_2019_-8.57424_68.23761  \n",
       "\n",
       "[5 rows x 43 columns]"
      ],
      "text/html": [
       "<div>\n",
       "<style scoped>\n",
       "    .dataframe tbody tr th:only-of-type {\n",
       "        vertical-align: middle;\n",
       "    }\n",
       "\n",
       "    .dataframe tbody tr th {\n",
       "        vertical-align: top;\n",
       "    }\n",
       "\n",
       "    .dataframe thead th {\n",
       "        text-align: right;\n",
       "    }\n",
       "</style>\n",
       "<table border=\"1\" class=\"dataframe\">\n",
       "  <thead>\n",
       "    <tr style=\"text-align: right;\">\n",
       "      <th></th>\n",
       "      <th>Year</th>\n",
       "      <th>Month</th>\n",
       "      <th>10u</th>\n",
       "      <th>10v</th>\n",
       "      <th>2d</th>\n",
       "      <th>2t</th>\n",
       "      <th>evabs</th>\n",
       "      <th>evaow</th>\n",
       "      <th>evatc</th>\n",
       "      <th>evavt</th>\n",
       "      <th>...</th>\n",
       "      <th>tp</th>\n",
       "      <th>swvl1</th>\n",
       "      <th>swvl2</th>\n",
       "      <th>swvl3</th>\n",
       "      <th>swvl4</th>\n",
       "      <th>Transformed_Latitude</th>\n",
       "      <th>Transformed_Longitude</th>\n",
       "      <th>Month_Year</th>\n",
       "      <th>lat_lon</th>\n",
       "      <th>Month_Year_lat_lon</th>\n",
       "    </tr>\n",
       "  </thead>\n",
       "  <tbody>\n",
       "    <tr>\n",
       "      <th>0</th>\n",
       "      <td>2019</td>\n",
       "      <td>1</td>\n",
       "      <td>-1.006850</td>\n",
       "      <td>-0.714544</td>\n",
       "      <td>293.502</td>\n",
       "      <td>297.417</td>\n",
       "      <td>-0.002489</td>\n",
       "      <td>-0.001031</td>\n",
       "      <td>-0.000989</td>\n",
       "      <td>-3.445890e-08</td>\n",
       "      <td>...</td>\n",
       "      <td>0.006655</td>\n",
       "      <td>0.346542</td>\n",
       "      <td>0.335724</td>\n",
       "      <td>0.264359</td>\n",
       "      <td>0.300018</td>\n",
       "      <td>-8.57424</td>\n",
       "      <td>68.23761</td>\n",
       "      <td>1_2019</td>\n",
       "      <td>-8.57424_68.23761</td>\n",
       "      <td>1_2019_-8.57424_68.23761</td>\n",
       "    </tr>\n",
       "    <tr>\n",
       "      <th>1</th>\n",
       "      <td>2019</td>\n",
       "      <td>2</td>\n",
       "      <td>-1.408560</td>\n",
       "      <td>-0.662555</td>\n",
       "      <td>292.943</td>\n",
       "      <td>297.978</td>\n",
       "      <td>-0.002556</td>\n",
       "      <td>-0.001076</td>\n",
       "      <td>-0.000734</td>\n",
       "      <td>-3.818420e-08</td>\n",
       "      <td>...</td>\n",
       "      <td>0.003201</td>\n",
       "      <td>0.254517</td>\n",
       "      <td>0.259918</td>\n",
       "      <td>0.281769</td>\n",
       "      <td>0.296188</td>\n",
       "      <td>-8.57424</td>\n",
       "      <td>68.23761</td>\n",
       "      <td>2_2019</td>\n",
       "      <td>-8.57424_68.23761</td>\n",
       "      <td>2_2019_-8.57424_68.23761</td>\n",
       "    </tr>\n",
       "    <tr>\n",
       "      <th>2</th>\n",
       "      <td>2019</td>\n",
       "      <td>3</td>\n",
       "      <td>-0.892110</td>\n",
       "      <td>-0.449448</td>\n",
       "      <td>293.250</td>\n",
       "      <td>297.989</td>\n",
       "      <td>-0.002535</td>\n",
       "      <td>-0.000980</td>\n",
       "      <td>-0.000713</td>\n",
       "      <td>-3.678720e-08</td>\n",
       "      <td>...</td>\n",
       "      <td>0.004682</td>\n",
       "      <td>0.278152</td>\n",
       "      <td>0.284195</td>\n",
       "      <td>0.261597</td>\n",
       "      <td>0.291672</td>\n",
       "      <td>-8.57424</td>\n",
       "      <td>68.23761</td>\n",
       "      <td>3_2019</td>\n",
       "      <td>-8.57424_68.23761</td>\n",
       "      <td>3_2019_-8.57424_68.23761</td>\n",
       "    </tr>\n",
       "    <tr>\n",
       "      <th>3</th>\n",
       "      <td>2019</td>\n",
       "      <td>4</td>\n",
       "      <td>-0.392348</td>\n",
       "      <td>0.384925</td>\n",
       "      <td>293.934</td>\n",
       "      <td>296.542</td>\n",
       "      <td>-0.001748</td>\n",
       "      <td>-0.000658</td>\n",
       "      <td>-0.001343</td>\n",
       "      <td>-2.700840e-08</td>\n",
       "      <td>...</td>\n",
       "      <td>0.007518</td>\n",
       "      <td>0.385513</td>\n",
       "      <td>0.378616</td>\n",
       "      <td>0.309784</td>\n",
       "      <td>0.288925</td>\n",
       "      <td>-8.57424</td>\n",
       "      <td>68.23761</td>\n",
       "      <td>4_2019</td>\n",
       "      <td>-8.57424_68.23761</td>\n",
       "      <td>4_2019_-8.57424_68.23761</td>\n",
       "    </tr>\n",
       "    <tr>\n",
       "      <th>4</th>\n",
       "      <td>2019</td>\n",
       "      <td>5</td>\n",
       "      <td>-0.447104</td>\n",
       "      <td>0.581028</td>\n",
       "      <td>292.571</td>\n",
       "      <td>294.726</td>\n",
       "      <td>-0.001374</td>\n",
       "      <td>-0.000462</td>\n",
       "      <td>-0.001139</td>\n",
       "      <td>-2.048910e-08</td>\n",
       "      <td>...</td>\n",
       "      <td>0.005989</td>\n",
       "      <td>0.397659</td>\n",
       "      <td>0.400055</td>\n",
       "      <td>0.392654</td>\n",
       "      <td>0.309311</td>\n",
       "      <td>-8.57424</td>\n",
       "      <td>68.23761</td>\n",
       "      <td>5_2019</td>\n",
       "      <td>-8.57424_68.23761</td>\n",
       "      <td>5_2019_-8.57424_68.23761</td>\n",
       "    </tr>\n",
       "  </tbody>\n",
       "</table>\n",
       "<p>5 rows × 43 columns</p>\n",
       "</div>"
      ]
     },
     "execution_count": 14,
     "metadata": {},
     "output_type": "execute_result"
    }
   ],
   "execution_count": 14
  },
  {
   "cell_type": "code",
   "metadata": {
    "ExecuteTime": {
     "end_time": "2025-01-08T04:57:27.755513Z",
     "start_time": "2025-01-08T04:57:27.734344Z"
    }
   },
   "source": [
    "# water_sources drop any duplicated and missing values\n",
    "water_sources = water_sources.drop_duplicates()\n",
    "water_sources = water_sources.dropna()"
   ],
   "outputs": [],
   "execution_count": 15
  },
  {
   "cell_type": "code",
   "metadata": {
    "ExecuteTime": {
     "end_time": "2025-01-08T04:57:30.383051Z",
     "start_time": "2025-01-08T04:57:30.328206Z"
    }
   },
   "source": [
    "# describe water_sources\n",
    "water_sources.describe()"
   ],
   "outputs": [
    {
     "data": {
      "text/plain": [
       "               Year         Month           10u           10v            2d  \\\n",
       "count  10500.000000  10500.000000  10500.000000  10500.000000  10500.000000   \n",
       "mean    2021.000000      6.500000     -0.874489      0.149213    291.119261   \n",
       "std        1.414281      3.452217      0.468765      0.607776      2.464183   \n",
       "min     2019.000000      1.000000     -2.186940     -0.866400    286.144000   \n",
       "25%     2020.000000      3.750000     -1.218457     -0.417648    288.607000   \n",
       "50%     2021.000000      6.500000     -0.883673      0.183071    292.097500   \n",
       "75%     2022.000000      9.250000     -0.447104      0.663744    293.223000   \n",
       "max     2023.000000     12.000000      0.168609      1.355880    295.323000   \n",
       "\n",
       "                 2t         evabs         evaow         evatc         evavt  \\\n",
       "count  10500.000000  10500.000000  10500.000000  10500.000000  1.050000e+04   \n",
       "mean     296.321049     -0.001516     -0.000667     -0.000582 -1.666853e-05   \n",
       "std        1.468999      0.000621      0.000288      0.000407  2.274614e-05   \n",
       "min      292.261000     -0.003307     -0.001376     -0.002149 -8.422280e-05   \n",
       "25%      295.137000     -0.002063     -0.000905     -0.000898 -3.710300e-05   \n",
       "50%      296.453000     -0.001454     -0.000598     -0.000410 -3.352760e-08   \n",
       "75%      297.417000     -0.001008     -0.000441     -0.000239 -1.909210e-08   \n",
       "max      299.871000     -0.000250     -0.000086     -0.000060  4.656610e-10   \n",
       "\n",
       "       ...          ssrd          strd             e            tp  \\\n",
       "count  ...  1.050000e+04  1.050000e+04  10500.000000  10500.000000   \n",
       "mean   ...  1.716275e+07  2.990839e+07     -0.002782      0.003258   \n",
       "std    ...  3.621966e+06  7.340210e+06      0.001130      0.003109   \n",
       "min    ...  9.721450e+06  1.685050e+07     -0.004830      0.000176   \n",
       "25%    ...  1.390420e+07  1.864462e+07     -0.003749      0.000686   \n",
       "50%    ...  1.759390e+07  3.339840e+07     -0.002601      0.002037   \n",
       "75%    ...  2.002040e+07  3.543520e+07     -0.001814      0.005264   \n",
       "max    ...  2.390000e+07  3.617010e+07     -0.000433      0.016407   \n",
       "\n",
       "              swvl1         swvl2         swvl3         swvl4  \\\n",
       "count  10500.000000  10500.000000  10500.000000  10500.000000   \n",
       "mean       0.252771      0.264505      0.272055      0.297092   \n",
       "std        0.097806      0.087117      0.068872      0.047170   \n",
       "min        0.109100      0.133270      0.146423      0.191055   \n",
       "25%        0.154800      0.182449      0.215332      0.261810   \n",
       "50%        0.254257      0.264404      0.262787      0.296188   \n",
       "75%        0.339630      0.338516      0.317383      0.321747   \n",
       "max        0.415741      0.418869      0.420380      0.426147   \n",
       "\n",
       "       Transformed_Latitude  Transformed_Longitude  \n",
       "count          10500.000000           10500.000000  \n",
       "mean              -8.600479              68.236903  \n",
       "std                0.050385               0.040141  \n",
       "min               -8.714190              68.163730  \n",
       "25%               -8.626680              68.212920  \n",
       "50%               -8.609310              68.234660  \n",
       "75%               -8.570370              68.251460  \n",
       "max               -8.472700              68.329640  \n",
       "\n",
       "[8 rows x 40 columns]"
      ],
      "text/html": [
       "<div>\n",
       "<style scoped>\n",
       "    .dataframe tbody tr th:only-of-type {\n",
       "        vertical-align: middle;\n",
       "    }\n",
       "\n",
       "    .dataframe tbody tr th {\n",
       "        vertical-align: top;\n",
       "    }\n",
       "\n",
       "    .dataframe thead th {\n",
       "        text-align: right;\n",
       "    }\n",
       "</style>\n",
       "<table border=\"1\" class=\"dataframe\">\n",
       "  <thead>\n",
       "    <tr style=\"text-align: right;\">\n",
       "      <th></th>\n",
       "      <th>Year</th>\n",
       "      <th>Month</th>\n",
       "      <th>10u</th>\n",
       "      <th>10v</th>\n",
       "      <th>2d</th>\n",
       "      <th>2t</th>\n",
       "      <th>evabs</th>\n",
       "      <th>evaow</th>\n",
       "      <th>evatc</th>\n",
       "      <th>evavt</th>\n",
       "      <th>...</th>\n",
       "      <th>ssrd</th>\n",
       "      <th>strd</th>\n",
       "      <th>e</th>\n",
       "      <th>tp</th>\n",
       "      <th>swvl1</th>\n",
       "      <th>swvl2</th>\n",
       "      <th>swvl3</th>\n",
       "      <th>swvl4</th>\n",
       "      <th>Transformed_Latitude</th>\n",
       "      <th>Transformed_Longitude</th>\n",
       "    </tr>\n",
       "  </thead>\n",
       "  <tbody>\n",
       "    <tr>\n",
       "      <th>count</th>\n",
       "      <td>10500.000000</td>\n",
       "      <td>10500.000000</td>\n",
       "      <td>10500.000000</td>\n",
       "      <td>10500.000000</td>\n",
       "      <td>10500.000000</td>\n",
       "      <td>10500.000000</td>\n",
       "      <td>10500.000000</td>\n",
       "      <td>10500.000000</td>\n",
       "      <td>10500.000000</td>\n",
       "      <td>1.050000e+04</td>\n",
       "      <td>...</td>\n",
       "      <td>1.050000e+04</td>\n",
       "      <td>1.050000e+04</td>\n",
       "      <td>10500.000000</td>\n",
       "      <td>10500.000000</td>\n",
       "      <td>10500.000000</td>\n",
       "      <td>10500.000000</td>\n",
       "      <td>10500.000000</td>\n",
       "      <td>10500.000000</td>\n",
       "      <td>10500.000000</td>\n",
       "      <td>10500.000000</td>\n",
       "    </tr>\n",
       "    <tr>\n",
       "      <th>mean</th>\n",
       "      <td>2021.000000</td>\n",
       "      <td>6.500000</td>\n",
       "      <td>-0.874489</td>\n",
       "      <td>0.149213</td>\n",
       "      <td>291.119261</td>\n",
       "      <td>296.321049</td>\n",
       "      <td>-0.001516</td>\n",
       "      <td>-0.000667</td>\n",
       "      <td>-0.000582</td>\n",
       "      <td>-1.666853e-05</td>\n",
       "      <td>...</td>\n",
       "      <td>1.716275e+07</td>\n",
       "      <td>2.990839e+07</td>\n",
       "      <td>-0.002782</td>\n",
       "      <td>0.003258</td>\n",
       "      <td>0.252771</td>\n",
       "      <td>0.264505</td>\n",
       "      <td>0.272055</td>\n",
       "      <td>0.297092</td>\n",
       "      <td>-8.600479</td>\n",
       "      <td>68.236903</td>\n",
       "    </tr>\n",
       "    <tr>\n",
       "      <th>std</th>\n",
       "      <td>1.414281</td>\n",
       "      <td>3.452217</td>\n",
       "      <td>0.468765</td>\n",
       "      <td>0.607776</td>\n",
       "      <td>2.464183</td>\n",
       "      <td>1.468999</td>\n",
       "      <td>0.000621</td>\n",
       "      <td>0.000288</td>\n",
       "      <td>0.000407</td>\n",
       "      <td>2.274614e-05</td>\n",
       "      <td>...</td>\n",
       "      <td>3.621966e+06</td>\n",
       "      <td>7.340210e+06</td>\n",
       "      <td>0.001130</td>\n",
       "      <td>0.003109</td>\n",
       "      <td>0.097806</td>\n",
       "      <td>0.087117</td>\n",
       "      <td>0.068872</td>\n",
       "      <td>0.047170</td>\n",
       "      <td>0.050385</td>\n",
       "      <td>0.040141</td>\n",
       "    </tr>\n",
       "    <tr>\n",
       "      <th>min</th>\n",
       "      <td>2019.000000</td>\n",
       "      <td>1.000000</td>\n",
       "      <td>-2.186940</td>\n",
       "      <td>-0.866400</td>\n",
       "      <td>286.144000</td>\n",
       "      <td>292.261000</td>\n",
       "      <td>-0.003307</td>\n",
       "      <td>-0.001376</td>\n",
       "      <td>-0.002149</td>\n",
       "      <td>-8.422280e-05</td>\n",
       "      <td>...</td>\n",
       "      <td>9.721450e+06</td>\n",
       "      <td>1.685050e+07</td>\n",
       "      <td>-0.004830</td>\n",
       "      <td>0.000176</td>\n",
       "      <td>0.109100</td>\n",
       "      <td>0.133270</td>\n",
       "      <td>0.146423</td>\n",
       "      <td>0.191055</td>\n",
       "      <td>-8.714190</td>\n",
       "      <td>68.163730</td>\n",
       "    </tr>\n",
       "    <tr>\n",
       "      <th>25%</th>\n",
       "      <td>2020.000000</td>\n",
       "      <td>3.750000</td>\n",
       "      <td>-1.218457</td>\n",
       "      <td>-0.417648</td>\n",
       "      <td>288.607000</td>\n",
       "      <td>295.137000</td>\n",
       "      <td>-0.002063</td>\n",
       "      <td>-0.000905</td>\n",
       "      <td>-0.000898</td>\n",
       "      <td>-3.710300e-05</td>\n",
       "      <td>...</td>\n",
       "      <td>1.390420e+07</td>\n",
       "      <td>1.864462e+07</td>\n",
       "      <td>-0.003749</td>\n",
       "      <td>0.000686</td>\n",
       "      <td>0.154800</td>\n",
       "      <td>0.182449</td>\n",
       "      <td>0.215332</td>\n",
       "      <td>0.261810</td>\n",
       "      <td>-8.626680</td>\n",
       "      <td>68.212920</td>\n",
       "    </tr>\n",
       "    <tr>\n",
       "      <th>50%</th>\n",
       "      <td>2021.000000</td>\n",
       "      <td>6.500000</td>\n",
       "      <td>-0.883673</td>\n",
       "      <td>0.183071</td>\n",
       "      <td>292.097500</td>\n",
       "      <td>296.453000</td>\n",
       "      <td>-0.001454</td>\n",
       "      <td>-0.000598</td>\n",
       "      <td>-0.000410</td>\n",
       "      <td>-3.352760e-08</td>\n",
       "      <td>...</td>\n",
       "      <td>1.759390e+07</td>\n",
       "      <td>3.339840e+07</td>\n",
       "      <td>-0.002601</td>\n",
       "      <td>0.002037</td>\n",
       "      <td>0.254257</td>\n",
       "      <td>0.264404</td>\n",
       "      <td>0.262787</td>\n",
       "      <td>0.296188</td>\n",
       "      <td>-8.609310</td>\n",
       "      <td>68.234660</td>\n",
       "    </tr>\n",
       "    <tr>\n",
       "      <th>75%</th>\n",
       "      <td>2022.000000</td>\n",
       "      <td>9.250000</td>\n",
       "      <td>-0.447104</td>\n",
       "      <td>0.663744</td>\n",
       "      <td>293.223000</td>\n",
       "      <td>297.417000</td>\n",
       "      <td>-0.001008</td>\n",
       "      <td>-0.000441</td>\n",
       "      <td>-0.000239</td>\n",
       "      <td>-1.909210e-08</td>\n",
       "      <td>...</td>\n",
       "      <td>2.002040e+07</td>\n",
       "      <td>3.543520e+07</td>\n",
       "      <td>-0.001814</td>\n",
       "      <td>0.005264</td>\n",
       "      <td>0.339630</td>\n",
       "      <td>0.338516</td>\n",
       "      <td>0.317383</td>\n",
       "      <td>0.321747</td>\n",
       "      <td>-8.570370</td>\n",
       "      <td>68.251460</td>\n",
       "    </tr>\n",
       "    <tr>\n",
       "      <th>max</th>\n",
       "      <td>2023.000000</td>\n",
       "      <td>12.000000</td>\n",
       "      <td>0.168609</td>\n",
       "      <td>1.355880</td>\n",
       "      <td>295.323000</td>\n",
       "      <td>299.871000</td>\n",
       "      <td>-0.000250</td>\n",
       "      <td>-0.000086</td>\n",
       "      <td>-0.000060</td>\n",
       "      <td>4.656610e-10</td>\n",
       "      <td>...</td>\n",
       "      <td>2.390000e+07</td>\n",
       "      <td>3.617010e+07</td>\n",
       "      <td>-0.000433</td>\n",
       "      <td>0.016407</td>\n",
       "      <td>0.415741</td>\n",
       "      <td>0.418869</td>\n",
       "      <td>0.420380</td>\n",
       "      <td>0.426147</td>\n",
       "      <td>-8.472700</td>\n",
       "      <td>68.329640</td>\n",
       "    </tr>\n",
       "  </tbody>\n",
       "</table>\n",
       "<p>8 rows × 40 columns</p>\n",
       "</div>"
      ]
     },
     "execution_count": 16,
     "metadata": {},
     "output_type": "execute_result"
    }
   ],
   "execution_count": 16
  },
  {
   "cell_type": "code",
   "metadata": {
    "ExecuteTime": {
     "end_time": "2025-01-08T04:57:34.351874Z",
     "start_time": "2025-01-08T04:57:34.343741Z"
    }
   },
   "source": [
    "# train shape\n",
    "train.shape"
   ],
   "outputs": [
    {
     "data": {
      "text/plain": [
       "(23848, 9)"
      ]
     },
     "execution_count": 17,
     "metadata": {},
     "output_type": "execute_result"
    }
   ],
   "execution_count": 17
  },
  {
   "cell_type": "code",
   "metadata": {
    "ExecuteTime": {
     "end_time": "2025-01-08T04:57:37.240698Z",
     "start_time": "2025-01-08T04:57:37.218721Z"
    }
   },
   "source": [
    "# sample train\n",
    "train.head()"
   ],
   "outputs": [
    {
     "data": {
      "text/plain": [
       "                                                  ID  Total  \\\n",
       "0  ID_3a11929e-3317-476d-99f7-1bd9fb58f018_12_202...    0.0   \n",
       "1  ID_3a11929e-3317-476d-99f7-1bd9fb58f018_12_202...    0.0   \n",
       "2  ID_3a11929e-3317-476d-99f7-1bd9fb58f018_12_202...    0.0   \n",
       "3  ID_3a11929e-3317-476d-99f7-1bd9fb58f018_12_202...    0.0   \n",
       "4  ID_3a11929e-3317-476d-99f7-1bd9fb58f018_12_202...    0.0   \n",
       "\n",
       "                                  Location  \\\n",
       "0  ID_3a11929e-3317-476d-99f7-1bd9fb58f018   \n",
       "1  ID_3a11929e-3317-476d-99f7-1bd9fb58f018   \n",
       "2  ID_3a11929e-3317-476d-99f7-1bd9fb58f018   \n",
       "3  ID_3a11929e-3317-476d-99f7-1bd9fb58f018   \n",
       "4  ID_3a11929e-3317-476d-99f7-1bd9fb58f018   \n",
       "\n",
       "          Category_Health_Facility_UUID    Disease  Month  Year  \\\n",
       "0  a9280aca-c872-46f5-ada7-4a7cc31cf6ec  Dysentery     12  2022   \n",
       "1  a9280aca-c872-46f5-ada7-4a7cc31cf6ec    Typhoid     12  2022   \n",
       "2  a9280aca-c872-46f5-ada7-4a7cc31cf6ec   Diarrhea     12  2022   \n",
       "3  a9280aca-c872-46f5-ada7-4a7cc31cf6ec   Diarrhea     12  2022   \n",
       "4  a9280aca-c872-46f5-ada7-4a7cc31cf6ec   Diarrhea     12  2022   \n",
       "\n",
       "   Transformed_Latitude  Transformed_Longitude  \n",
       "0              -8.62982               68.23267  \n",
       "1              -8.62982               68.23267  \n",
       "2              -8.62982               68.23267  \n",
       "3              -8.62982               68.23267  \n",
       "4              -8.62982               68.23267  "
      ],
      "text/html": [
       "<div>\n",
       "<style scoped>\n",
       "    .dataframe tbody tr th:only-of-type {\n",
       "        vertical-align: middle;\n",
       "    }\n",
       "\n",
       "    .dataframe tbody tr th {\n",
       "        vertical-align: top;\n",
       "    }\n",
       "\n",
       "    .dataframe thead th {\n",
       "        text-align: right;\n",
       "    }\n",
       "</style>\n",
       "<table border=\"1\" class=\"dataframe\">\n",
       "  <thead>\n",
       "    <tr style=\"text-align: right;\">\n",
       "      <th></th>\n",
       "      <th>ID</th>\n",
       "      <th>Total</th>\n",
       "      <th>Location</th>\n",
       "      <th>Category_Health_Facility_UUID</th>\n",
       "      <th>Disease</th>\n",
       "      <th>Month</th>\n",
       "      <th>Year</th>\n",
       "      <th>Transformed_Latitude</th>\n",
       "      <th>Transformed_Longitude</th>\n",
       "    </tr>\n",
       "  </thead>\n",
       "  <tbody>\n",
       "    <tr>\n",
       "      <th>0</th>\n",
       "      <td>ID_3a11929e-3317-476d-99f7-1bd9fb58f018_12_202...</td>\n",
       "      <td>0.0</td>\n",
       "      <td>ID_3a11929e-3317-476d-99f7-1bd9fb58f018</td>\n",
       "      <td>a9280aca-c872-46f5-ada7-4a7cc31cf6ec</td>\n",
       "      <td>Dysentery</td>\n",
       "      <td>12</td>\n",
       "      <td>2022</td>\n",
       "      <td>-8.62982</td>\n",
       "      <td>68.23267</td>\n",
       "    </tr>\n",
       "    <tr>\n",
       "      <th>1</th>\n",
       "      <td>ID_3a11929e-3317-476d-99f7-1bd9fb58f018_12_202...</td>\n",
       "      <td>0.0</td>\n",
       "      <td>ID_3a11929e-3317-476d-99f7-1bd9fb58f018</td>\n",
       "      <td>a9280aca-c872-46f5-ada7-4a7cc31cf6ec</td>\n",
       "      <td>Typhoid</td>\n",
       "      <td>12</td>\n",
       "      <td>2022</td>\n",
       "      <td>-8.62982</td>\n",
       "      <td>68.23267</td>\n",
       "    </tr>\n",
       "    <tr>\n",
       "      <th>2</th>\n",
       "      <td>ID_3a11929e-3317-476d-99f7-1bd9fb58f018_12_202...</td>\n",
       "      <td>0.0</td>\n",
       "      <td>ID_3a11929e-3317-476d-99f7-1bd9fb58f018</td>\n",
       "      <td>a9280aca-c872-46f5-ada7-4a7cc31cf6ec</td>\n",
       "      <td>Diarrhea</td>\n",
       "      <td>12</td>\n",
       "      <td>2022</td>\n",
       "      <td>-8.62982</td>\n",
       "      <td>68.23267</td>\n",
       "    </tr>\n",
       "    <tr>\n",
       "      <th>3</th>\n",
       "      <td>ID_3a11929e-3317-476d-99f7-1bd9fb58f018_12_202...</td>\n",
       "      <td>0.0</td>\n",
       "      <td>ID_3a11929e-3317-476d-99f7-1bd9fb58f018</td>\n",
       "      <td>a9280aca-c872-46f5-ada7-4a7cc31cf6ec</td>\n",
       "      <td>Diarrhea</td>\n",
       "      <td>12</td>\n",
       "      <td>2022</td>\n",
       "      <td>-8.62982</td>\n",
       "      <td>68.23267</td>\n",
       "    </tr>\n",
       "    <tr>\n",
       "      <th>4</th>\n",
       "      <td>ID_3a11929e-3317-476d-99f7-1bd9fb58f018_12_202...</td>\n",
       "      <td>0.0</td>\n",
       "      <td>ID_3a11929e-3317-476d-99f7-1bd9fb58f018</td>\n",
       "      <td>a9280aca-c872-46f5-ada7-4a7cc31cf6ec</td>\n",
       "      <td>Diarrhea</td>\n",
       "      <td>12</td>\n",
       "      <td>2022</td>\n",
       "      <td>-8.62982</td>\n",
       "      <td>68.23267</td>\n",
       "    </tr>\n",
       "  </tbody>\n",
       "</table>\n",
       "</div>"
      ]
     },
     "execution_count": 18,
     "metadata": {},
     "output_type": "execute_result"
    }
   ],
   "execution_count": 18
  },
  {
   "cell_type": "code",
   "metadata": {
    "ExecuteTime": {
     "end_time": "2025-01-08T04:57:40.718564Z",
     "start_time": "2025-01-08T04:57:40.687643Z"
    }
   },
   "source": [
    "# train drop any duplicated and missing values\n",
    "train = train.drop_duplicates()\n",
    "train = train.dropna()"
   ],
   "outputs": [],
   "execution_count": 19
  },
  {
   "cell_type": "code",
   "metadata": {
    "ExecuteTime": {
     "end_time": "2025-01-08T04:57:42.973951Z",
     "start_time": "2025-01-08T04:57:42.953243Z"
    }
   },
   "source": [
    "# describe train\n",
    "train.describe()"
   ],
   "outputs": [
    {
     "data": {
      "text/plain": [
       "              Total         Month          Year  Transformed_Latitude  \\\n",
       "count  17172.000000  17172.000000  17172.000000          17172.000000   \n",
       "mean      11.539483      6.557303   2020.610587             -8.612256   \n",
       "std       32.512739      3.458369      1.134407              0.042277   \n",
       "min        0.000000      1.000000   2019.000000             -8.713760   \n",
       "25%        0.000000      4.000000   2020.000000             -8.626310   \n",
       "50%        0.000000      7.000000   2021.000000             -8.617400   \n",
       "75%        9.000000     10.000000   2022.000000             -8.594310   \n",
       "max      489.000000     12.000000   2022.000000             -8.496810   \n",
       "\n",
       "       Transformed_Longitude  \n",
       "count           17172.000000  \n",
       "mean               68.243060  \n",
       "std                 0.029565  \n",
       "min                68.169720  \n",
       "25%                68.224740  \n",
       "50%                68.239590  \n",
       "75%                68.257640  \n",
       "max                68.328390  "
      ],
      "text/html": [
       "<div>\n",
       "<style scoped>\n",
       "    .dataframe tbody tr th:only-of-type {\n",
       "        vertical-align: middle;\n",
       "    }\n",
       "\n",
       "    .dataframe tbody tr th {\n",
       "        vertical-align: top;\n",
       "    }\n",
       "\n",
       "    .dataframe thead th {\n",
       "        text-align: right;\n",
       "    }\n",
       "</style>\n",
       "<table border=\"1\" class=\"dataframe\">\n",
       "  <thead>\n",
       "    <tr style=\"text-align: right;\">\n",
       "      <th></th>\n",
       "      <th>Total</th>\n",
       "      <th>Month</th>\n",
       "      <th>Year</th>\n",
       "      <th>Transformed_Latitude</th>\n",
       "      <th>Transformed_Longitude</th>\n",
       "    </tr>\n",
       "  </thead>\n",
       "  <tbody>\n",
       "    <tr>\n",
       "      <th>count</th>\n",
       "      <td>17172.000000</td>\n",
       "      <td>17172.000000</td>\n",
       "      <td>17172.000000</td>\n",
       "      <td>17172.000000</td>\n",
       "      <td>17172.000000</td>\n",
       "    </tr>\n",
       "    <tr>\n",
       "      <th>mean</th>\n",
       "      <td>11.539483</td>\n",
       "      <td>6.557303</td>\n",
       "      <td>2020.610587</td>\n",
       "      <td>-8.612256</td>\n",
       "      <td>68.243060</td>\n",
       "    </tr>\n",
       "    <tr>\n",
       "      <th>std</th>\n",
       "      <td>32.512739</td>\n",
       "      <td>3.458369</td>\n",
       "      <td>1.134407</td>\n",
       "      <td>0.042277</td>\n",
       "      <td>0.029565</td>\n",
       "    </tr>\n",
       "    <tr>\n",
       "      <th>min</th>\n",
       "      <td>0.000000</td>\n",
       "      <td>1.000000</td>\n",
       "      <td>2019.000000</td>\n",
       "      <td>-8.713760</td>\n",
       "      <td>68.169720</td>\n",
       "    </tr>\n",
       "    <tr>\n",
       "      <th>25%</th>\n",
       "      <td>0.000000</td>\n",
       "      <td>4.000000</td>\n",
       "      <td>2020.000000</td>\n",
       "      <td>-8.626310</td>\n",
       "      <td>68.224740</td>\n",
       "    </tr>\n",
       "    <tr>\n",
       "      <th>50%</th>\n",
       "      <td>0.000000</td>\n",
       "      <td>7.000000</td>\n",
       "      <td>2021.000000</td>\n",
       "      <td>-8.617400</td>\n",
       "      <td>68.239590</td>\n",
       "    </tr>\n",
       "    <tr>\n",
       "      <th>75%</th>\n",
       "      <td>9.000000</td>\n",
       "      <td>10.000000</td>\n",
       "      <td>2022.000000</td>\n",
       "      <td>-8.594310</td>\n",
       "      <td>68.257640</td>\n",
       "    </tr>\n",
       "    <tr>\n",
       "      <th>max</th>\n",
       "      <td>489.000000</td>\n",
       "      <td>12.000000</td>\n",
       "      <td>2022.000000</td>\n",
       "      <td>-8.496810</td>\n",
       "      <td>68.328390</td>\n",
       "    </tr>\n",
       "  </tbody>\n",
       "</table>\n",
       "</div>"
      ]
     },
     "execution_count": 20,
     "metadata": {},
     "output_type": "execute_result"
    }
   ],
   "execution_count": 20
  },
  {
   "cell_type": "code",
   "metadata": {
    "ExecuteTime": {
     "end_time": "2025-01-08T04:57:46.112893Z",
     "start_time": "2025-01-08T04:57:46.103635Z"
    }
   },
   "source": [
    "# test shape\n",
    "test.shape\n"
   ],
   "outputs": [
    {
     "data": {
      "text/plain": [
       "(4872, 8)"
      ]
     },
     "execution_count": 21,
     "metadata": {},
     "output_type": "execute_result"
    }
   ],
   "execution_count": 21
  },
  {
   "cell_type": "code",
   "execution_count": 9,
   "metadata": {
    "ExecuteTime": {
     "end_time": "2024-12-27T15:57:53.953373Z",
     "start_time": "2024-12-27T15:57:53.941577Z"
    }
   },
   "outputs": [
    {
     "data": {
      "text/html": [
       "<div>\n",
       "<style scoped>\n",
       "    .dataframe tbody tr th:only-of-type {\n",
       "        vertical-align: middle;\n",
       "    }\n",
       "\n",
       "    .dataframe tbody tr th {\n",
       "        vertical-align: top;\n",
       "    }\n",
       "\n",
       "    .dataframe thead th {\n",
       "        text-align: right;\n",
       "    }\n",
       "</style>\n",
       "<table border=\"1\" class=\"dataframe\">\n",
       "  <thead>\n",
       "    <tr style=\"text-align: right;\">\n",
       "      <th></th>\n",
       "      <th>Location</th>\n",
       "      <th>Disease</th>\n",
       "      <th>Month</th>\n",
       "      <th>Category_Health_Facility_UUID</th>\n",
       "      <th>Year</th>\n",
       "      <th>Transformed_Latitude</th>\n",
       "      <th>Transformed_Longitude</th>\n",
       "      <th>ID</th>\n",
       "    </tr>\n",
       "  </thead>\n",
       "  <tbody>\n",
       "    <tr>\n",
       "      <th>0</th>\n",
       "      <td>ID_00cd8292-dd85-4fa3-8148-9592e88a1651</td>\n",
       "      <td>Diarrhea</td>\n",
       "      <td>1</td>\n",
       "      <td>a9280aca-c872-46f5-ada7-4a7cc31cf6ec</td>\n",
       "      <td>2023</td>\n",
       "      <td>-8.52657</td>\n",
       "      <td>68.23638</td>\n",
       "      <td>ID_00cd8292-dd85-4fa3-8148-9592e88a1651_1_2023...</td>\n",
       "    </tr>\n",
       "    <tr>\n",
       "      <th>1</th>\n",
       "      <td>ID_00cd8292-dd85-4fa3-8148-9592e88a1651</td>\n",
       "      <td>Diarrhea</td>\n",
       "      <td>2</td>\n",
       "      <td>a9280aca-c872-46f5-ada7-4a7cc31cf6ec</td>\n",
       "      <td>2023</td>\n",
       "      <td>-8.52657</td>\n",
       "      <td>68.23638</td>\n",
       "      <td>ID_00cd8292-dd85-4fa3-8148-9592e88a1651_2_2023...</td>\n",
       "    </tr>\n",
       "    <tr>\n",
       "      <th>2</th>\n",
       "      <td>ID_00cd8292-dd85-4fa3-8148-9592e88a1651</td>\n",
       "      <td>Diarrhea</td>\n",
       "      <td>3</td>\n",
       "      <td>a9280aca-c872-46f5-ada7-4a7cc31cf6ec</td>\n",
       "      <td>2023</td>\n",
       "      <td>-8.52657</td>\n",
       "      <td>68.23638</td>\n",
       "      <td>ID_00cd8292-dd85-4fa3-8148-9592e88a1651_3_2023...</td>\n",
       "    </tr>\n",
       "    <tr>\n",
       "      <th>3</th>\n",
       "      <td>ID_00cd8292-dd85-4fa3-8148-9592e88a1651</td>\n",
       "      <td>Diarrhea</td>\n",
       "      <td>4</td>\n",
       "      <td>a9280aca-c872-46f5-ada7-4a7cc31cf6ec</td>\n",
       "      <td>2023</td>\n",
       "      <td>-8.52657</td>\n",
       "      <td>68.23638</td>\n",
       "      <td>ID_00cd8292-dd85-4fa3-8148-9592e88a1651_4_2023...</td>\n",
       "    </tr>\n",
       "    <tr>\n",
       "      <th>4</th>\n",
       "      <td>ID_00cd8292-dd85-4fa3-8148-9592e88a1651</td>\n",
       "      <td>Diarrhea</td>\n",
       "      <td>5</td>\n",
       "      <td>a9280aca-c872-46f5-ada7-4a7cc31cf6ec</td>\n",
       "      <td>2023</td>\n",
       "      <td>-8.52657</td>\n",
       "      <td>68.23638</td>\n",
       "      <td>ID_00cd8292-dd85-4fa3-8148-9592e88a1651_5_2023...</td>\n",
       "    </tr>\n",
       "  </tbody>\n",
       "</table>\n",
       "</div>"
      ],
      "text/plain": [
       "                                  Location   Disease  Month  \\\n",
       "0  ID_00cd8292-dd85-4fa3-8148-9592e88a1651  Diarrhea      1   \n",
       "1  ID_00cd8292-dd85-4fa3-8148-9592e88a1651  Diarrhea      2   \n",
       "2  ID_00cd8292-dd85-4fa3-8148-9592e88a1651  Diarrhea      3   \n",
       "3  ID_00cd8292-dd85-4fa3-8148-9592e88a1651  Diarrhea      4   \n",
       "4  ID_00cd8292-dd85-4fa3-8148-9592e88a1651  Diarrhea      5   \n",
       "\n",
       "          Category_Health_Facility_UUID  Year  Transformed_Latitude  \\\n",
       "0  a9280aca-c872-46f5-ada7-4a7cc31cf6ec  2023              -8.52657   \n",
       "1  a9280aca-c872-46f5-ada7-4a7cc31cf6ec  2023              -8.52657   \n",
       "2  a9280aca-c872-46f5-ada7-4a7cc31cf6ec  2023              -8.52657   \n",
       "3  a9280aca-c872-46f5-ada7-4a7cc31cf6ec  2023              -8.52657   \n",
       "4  a9280aca-c872-46f5-ada7-4a7cc31cf6ec  2023              -8.52657   \n",
       "\n",
       "   Transformed_Longitude                                                 ID  \n",
       "0               68.23638  ID_00cd8292-dd85-4fa3-8148-9592e88a1651_1_2023...  \n",
       "1               68.23638  ID_00cd8292-dd85-4fa3-8148-9592e88a1651_2_2023...  \n",
       "2               68.23638  ID_00cd8292-dd85-4fa3-8148-9592e88a1651_3_2023...  \n",
       "3               68.23638  ID_00cd8292-dd85-4fa3-8148-9592e88a1651_4_2023...  \n",
       "4               68.23638  ID_00cd8292-dd85-4fa3-8148-9592e88a1651_5_2023...  "
      ]
     },
     "execution_count": 9,
     "metadata": {},
     "output_type": "execute_result"
    }
   ],
   "source": [
    "# Display the first few records in the test dataset\n",
    "test.head()"
   ]
  },
  {
   "cell_type": "code",
   "metadata": {
    "id": "P0b_prP7m1LL",
    "ExecuteTime": {
     "end_time": "2025-01-08T04:57:49.278697Z",
     "start_time": "2025-01-08T04:57:49.265456Z"
    }
   },
   "source": [
    "# Combine train and test datasets for consistent preprocessing\n",
    "hospital_data = pd.concat([train, test])"
   ],
   "outputs": [],
   "execution_count": 22
  },
  {
   "cell_type": "code",
   "metadata": {
    "id": "dQM9IQDSm1NW",
    "ExecuteTime": {
     "end_time": "2025-01-08T04:57:51.621763Z",
     "start_time": "2025-01-08T04:57:51.609240Z"
    }
   },
   "source": [
    "# Drop unnecessary columns from supplementary datasets\n",
    "for df in [toilets, waste_management, water_sources]:\n",
    "    df.drop(columns=['Year', 'Month'], inplace=True)"
   ],
   "outputs": [],
   "execution_count": 23
  },
  {
   "cell_type": "code",
   "metadata": {
    "id": "-ZC07j0Am1Pu",
    "ExecuteTime": {
     "end_time": "2025-01-08T04:57:53.402334Z",
     "start_time": "2025-01-08T04:57:53.374880Z"
    }
   },
   "source": [
    "# Rename columns for clarity\n",
    "def rename_columns(df, prefix):\n",
    "    for col in df.columns:\n",
    "        if col not in ['Month_Year_lat_lon', 'lat_lon']:\n",
    "            df.rename(columns={col: f\"{prefix}_{col}\"}, inplace=True)\n",
    "\n",
    "rename_columns(toilets, \"toilet\")\n",
    "rename_columns(waste_management, \"waste\")\n",
    "rename_columns(water_sources, \"water\")\n"
   ],
   "outputs": [],
   "execution_count": 24
  },
  {
   "cell_type": "code",
   "metadata": {
    "colab": {
     "base_uri": "https://localhost:8080/"
    },
    "id": "XBbt0l3Um1SP",
    "outputId": "a04607d4-0f49-422f-dff5-8ec88d4eb174",
    "ExecuteTime": {
     "end_time": "2025-01-08T04:57:56.178516Z",
     "start_time": "2025-01-08T04:57:56.171969Z"
    }
   },
   "source": [
    "# Fill missing values in the 'Total' column\n",
    "hospital_data['Total'].fillna(0, inplace=True)"
   ],
   "outputs": [
    {
     "name": "stderr",
     "output_type": "stream",
     "text": [
      "C:\\Users\\michael\\AppData\\Local\\Temp\\ipykernel_16628\\2382225560.py:2: FutureWarning: A value is trying to be set on a copy of a DataFrame or Series through chained assignment using an inplace method.\n",
      "The behavior will change in pandas 3.0. This inplace method will never work because the intermediate object on which we are setting values always behaves as a copy.\n",
      "\n",
      "For example, when doing 'df[col].method(value, inplace=True)', try using 'df.method({col: value}, inplace=True)' or df[col] = df[col].method(value) instead, to perform the operation inplace on the original object.\n",
      "\n",
      "\n",
      "  hospital_data['Total'].fillna(0, inplace=True)\n"
     ]
    }
   ],
   "execution_count": 25
  },
  {
   "cell_type": "code",
   "metadata": {
    "id": "NfTHBfvEm1Uu",
    "ExecuteTime": {
     "end_time": "2025-01-08T04:58:00.065958Z",
     "start_time": "2025-01-08T04:58:00.046991Z"
    }
   },
   "source": [
    "# Drop rows with missing latitude and longitude in water sources\n",
    "water_sources.dropna(subset=['water_Transformed_Latitude'], inplace=True)"
   ],
   "outputs": [],
   "execution_count": 26
  },
  {
   "cell_type": "code",
   "metadata": {
    "id": "E7bOibx7m1Xd",
    "ExecuteTime": {
     "end_time": "2025-01-08T04:58:05.512067Z",
     "start_time": "2025-01-08T04:58:05.500249Z"
    }
   },
   "source": [
    "# Visualize locations for a specific year and month\n",
    "# Note the months/year should in the given timeframe [2019, 2023]\n",
    "def plot_locations(year=2022, month=1, month_name='January'):\n",
    "    if year < 2019 or year > 2023:\n",
    "        print(\"Invalid year. Please choose a year between 2019 and 2023.\")\n",
    "        return\n",
    "\n",
    "    if month < 1 or month > 12:\n",
    "        print(\"Invalid month. Please choose a month between 1 and 12.\")\n",
    "        return\n",
    "\n",
    "    if month_name.capitalize() not in ['January', 'February', 'March',\n",
    "                                       'April', 'May', 'June', 'July',\n",
    "                                       'August', 'September', 'October',\n",
    "                                       'November', 'December']:\n",
    "        print(\"Invalid month name. Please choose from 'January' to 'December'.\")\n",
    "        return\n",
    "\n",
    "    plt.figure(figsize=(12, 8))\n",
    "    subsets = [\n",
    "        (hospital_data.query(f\"Year == {year} and Month == {month}\"), 'Transformed', 'Hospital', 's'),\n",
    "        (water_sources.query(f\"water_Month_Year == '{month}_{year}'\"), 'water_Transformed', 'Water', 'o'),\n",
    "        (waste_management.query(f\"waste_Month_Year == '{month}_{year}'\"), 'waste_Transformed', 'Waste', 'x'),\n",
    "        (toilets.query(f\"toilet_Month_Year == '{month}_{year}'\"), 'toilet_Transformed', 'Toilet', '^'),\n",
    "    ]\n",
    "    for df, prefix, label, marker in subsets:\n",
    "        plt.scatter(df[f'{prefix}_Longitude'], df[f'{prefix}_Latitude'], label=label, alpha=0.6, marker=marker)\n",
    "    plt.title(f'Locations ({month_name.capitalize()} {year})')\n",
    "    plt.xlabel('Longitude')\n",
    "    plt.ylabel('Latitude')\n",
    "    plt.legend()\n",
    "    plt.grid(True)\n",
    "    plt.show()"
   ],
   "outputs": [],
   "execution_count": 28
  },
  {
   "cell_type": "code",
   "metadata": {
    "colab": {
     "base_uri": "https://localhost:8080/",
     "height": 559
    },
    "id": "3O4er4lYm1bS",
    "outputId": "eeca8427-b8fb-4e70-b96d-e1c6d2e76b11",
    "ExecuteTime": {
     "end_time": "2025-01-08T04:58:10.879566Z",
     "start_time": "2025-01-08T04:58:10.421704Z"
    }
   },
   "source": [
    "plot_locations()"
   ],
   "outputs": [
    {
     "data": {
      "text/plain": [
       "<Figure size 1200x800 with 1 Axes>"
      ],
      "image/png": "[encoded data removed]"
     },
     "metadata": {},
     "output_type": "display_data"
    }
   ],
   "execution_count": 29
  },
  {
   "cell_type": "code",
   "metadata": {
    "colab": {
     "base_uri": "https://localhost:8080/",
     "height": 559
    },
    "id": "e4Ru14OsPzn0",
    "outputId": "841c68f6-b17f-424a-caa7-9f0d98b2b894",
    "ExecuteTime": {
     "end_time": "2025-01-08T04:58:16.552621Z",
     "start_time": "2025-01-08T04:58:16.390845Z"
    }
   },
   "source": [
    "plot_locations(year=2023, month=2, month_name='February')"
   ],
   "outputs": [
    {
     "data": {
      "text/plain": [
       "<Figure size 1200x800 with 1 Axes>"
      ],
      "image/png": "[encoded data removed]"
     },
     "metadata": {},
     "output_type": "display_data"
    }
   ],
   "execution_count": 30
  },
  {
   "cell_type": "code",
   "metadata": {
    "colab": {
     "base_uri": "https://localhost:8080/",
     "height": 559
    },
    "id": "7nL7bzNrRikw",
    "outputId": "c796d6ea-3dfd-42f7-dfcb-5f0238296544",
    "ExecuteTime": {
     "end_time": "2025-01-08T04:58:23.255712Z",
     "start_time": "2025-01-08T04:58:23.094077Z"
    }
   },
   "source": [
    "plot_locations(year=2023, month=12, month_name='December')"
   ],
   "outputs": [
    {
     "data": {
      "text/plain": [
       "<Figure size 1200x800 with 1 Axes>"
      ],
      "image/png": "[encoded data removed]"
     },
     "metadata": {},
     "output_type": "display_data"
    }
   ],
   "execution_count": 31
  },
  {
   "cell_type": "code",
   "metadata": {
    "colab": {
     "base_uri": "https://localhost:8080/"
    },
    "id": "km20S7mgSMOP",
    "outputId": "ec55b7bc-d2ea-4d0b-ef12-c7ac3e7996ab",
    "ExecuteTime": {
     "end_time": "2025-01-08T04:58:28.363080Z",
     "start_time": "2025-01-08T04:58:28.203094Z"
    }
   },
   "source": [
    "plot_locations(year=2021, month=1, month_name='January')"
   ],
   "outputs": [
    {
     "data": {
      "text/plain": [
       "<Figure size 1200x800 with 1 Axes>"
      ],
      "image/png": "[encoded data removed]"
     },
     "metadata": {},
     "output_type": "display_data"
    }
   ],
   "execution_count": 32
  },
  {
   "cell_type": "code",
   "metadata": {
    "id": "vJk_JmwXm1eR",
    "ExecuteTime": {
     "end_time": "2025-01-08T04:58:39.243067Z",
     "start_time": "2025-01-08T04:58:39.234402Z"
    }
   },
   "source": [
    "def find_nearest(hospital_df, location_df, lat_col, lon_col, id_col):\n",
    "    # Create a cKDTree for efficient nearest neighbour search\n",
    "    tree = cKDTree(location_df[[lat_col, lon_col]].values)\n",
    "    nearest = {}\n",
    "    # Loop through each hospital and find the nearest site in location_df\n",
    "    for _, row in hospital_df.iterrows():\n",
    "        _, idx = tree.query([row['Transformed_Latitude'], row['Transformed_Longitude']])\n",
    "        nearest[row['ID']] = location_df.iloc[idx][id_col]\n",
    "    return nearest\n"
   ],
   "outputs": [],
   "execution_count": 36
  },
  {
   "cell_type": "code",
   "metadata": {
    "id": "55h7ySyeoTQS",
    "ExecuteTime": {
     "end_time": "2025-01-08T04:58:42.405665Z",
     "start_time": "2025-01-08T04:58:42.368099Z"
    }
   },
   "source": [
    "# Ensure unique identifier columns exist in all supplementary datasets\n",
    "for df, prefix in [(toilets, 'toilet'), (waste_management, 'waste'), (water_sources, 'water')]:\n",
    "    df[f\"{prefix}_Month_Year_lat_lon\"] = (\n",
    "        df[f\"{prefix}_Month_Year\"] + '_' +\n",
    "        df[f\"{prefix}_Transformed_Latitude\"].astype(str) + '_' +\n",
    "        df[f\"{prefix}_Transformed_Longitude\"].astype(str)\n",
    "    )"
   ],
   "outputs": [],
   "execution_count": 37
  },
  {
   "cell_type": "code",
   "metadata": {
    "colab": {
     "base_uri": "https://localhost:8080/",
     "height": 256
    },
    "id": "1hAqWjt3U7ry",
    "outputId": "613989e4-7a67-430f-d0c0-64cc9e2c04e1",
    "ExecuteTime": {
     "end_time": "2025-01-08T04:58:45.552585Z",
     "start_time": "2025-01-08T04:58:45.531398Z"
    }
   },
   "source": [
    "toilets.head()"
   ],
   "outputs": [
    {
     "data": {
      "text/plain": [
       "   toilet_10u  toilet_10v  toilet_2d  toilet_2t  toilet_evabs  toilet_evaow  \\\n",
       "0   -1.006850   -0.714544    293.502    297.417     -0.002489     -0.001031   \n",
       "1   -1.408560   -0.662555    292.943    297.978     -0.002556     -0.001076   \n",
       "2   -0.892110   -0.449448    293.250    297.989     -0.002535     -0.000980   \n",
       "3   -0.392348    0.384925    293.934    296.542     -0.001748     -0.000658   \n",
       "4   -0.447104    0.581028    292.571    294.726     -0.001374     -0.000462   \n",
       "\n",
       "   toilet_evatc  toilet_evavt  toilet_albedo  toilet_lshf  ...  toilet_swvl1  \\\n",
       "0     -0.000989 -3.445890e-08       0.173221     0.650001  ...      0.346542   \n",
       "1     -0.000734 -3.818420e-08       0.173808     0.650001  ...      0.254517   \n",
       "2     -0.000713 -3.678720e-08       0.178823     0.650001  ...      0.278152   \n",
       "3     -0.001343 -2.700840e-08       0.180959     0.650017  ...      0.385513   \n",
       "4     -0.001139 -2.048910e-08       0.182375     0.650009  ...      0.397659   \n",
       "\n",
       "   toilet_swvl2  toilet_swvl3  toilet_swvl4  toilet_Transformed_Latitude  \\\n",
       "0      0.335724      0.264359      0.300018                     -8.61768   \n",
       "1      0.259918      0.281769      0.296188                     -8.61768   \n",
       "2      0.284195      0.261597      0.291672                     -8.61768   \n",
       "3      0.378616      0.309784      0.288925                     -8.61768   \n",
       "4      0.400055      0.392654      0.309311                     -8.61768   \n",
       "\n",
       "   toilet_Transformed_Longitude  toilet_Month_Year            lat_lon  \\\n",
       "0                      68.24536             1_2019  -8.61768_68.24536   \n",
       "1                      68.24536             2_2019  -8.61768_68.24536   \n",
       "2                      68.24536             3_2019  -8.61768_68.24536   \n",
       "3                      68.24536             4_2019  -8.61768_68.24536   \n",
       "4                      68.24536             5_2019  -8.61768_68.24536   \n",
       "\n",
       "         Month_Year_lat_lon  toilet_Month_Year_lat_lon  \n",
       "0  1_2019_-8.61768_68.24536   1_2019_-8.61768_68.24536  \n",
       "1  2_2019_-8.61768_68.24536   2_2019_-8.61768_68.24536  \n",
       "2  3_2019_-8.61768_68.24536   3_2019_-8.61768_68.24536  \n",
       "3  4_2019_-8.61768_68.24536   4_2019_-8.61768_68.24536  \n",
       "4  5_2019_-8.61768_68.24536   5_2019_-8.61768_68.24536  \n",
       "\n",
       "[5 rows x 42 columns]"
      ],
      "text/html": [
       "<div>\n",
       "<style scoped>\n",
       "    .dataframe tbody tr th:only-of-type {\n",
       "        vertical-align: middle;\n",
       "    }\n",
       "\n",
       "    .dataframe tbody tr th {\n",
       "        vertical-align: top;\n",
       "    }\n",
       "\n",
       "    .dataframe thead th {\n",
       "        text-align: right;\n",
       "    }\n",
       "</style>\n",
       "<table border=\"1\" class=\"dataframe\">\n",
       "  <thead>\n",
       "    <tr style=\"text-align: right;\">\n",
       "      <th></th>\n",
       "      <th>toilet_10u</th>\n",
       "      <th>toilet_10v</th>\n",
       "      <th>toilet_2d</th>\n",
       "      <th>toilet_2t</th>\n",
       "      <th>toilet_evabs</th>\n",
       "      <th>toilet_evaow</th>\n",
       "      <th>toilet_evatc</th>\n",
       "      <th>toilet_evavt</th>\n",
       "      <th>toilet_albedo</th>\n",
       "      <th>toilet_lshf</th>\n",
       "      <th>...</th>\n",
       "      <th>toilet_swvl1</th>\n",
       "      <th>toilet_swvl2</th>\n",
       "      <th>toilet_swvl3</th>\n",
       "      <th>toilet_swvl4</th>\n",
       "      <th>toilet_Transformed_Latitude</th>\n",
       "      <th>toilet_Transformed_Longitude</th>\n",
       "      <th>toilet_Month_Year</th>\n",
       "      <th>lat_lon</th>\n",
       "      <th>Month_Year_lat_lon</th>\n",
       "      <th>toilet_Month_Year_lat_lon</th>\n",
       "    </tr>\n",
       "  </thead>\n",
       "  <tbody>\n",
       "    <tr>\n",
       "      <th>0</th>\n",
       "      <td>-1.006850</td>\n",
       "      <td>-0.714544</td>\n",
       "      <td>293.502</td>\n",
       "      <td>297.417</td>\n",
       "      <td>-0.002489</td>\n",
       "      <td>-0.001031</td>\n",
       "      <td>-0.000989</td>\n",
       "      <td>-3.445890e-08</td>\n",
       "      <td>0.173221</td>\n",
       "      <td>0.650001</td>\n",
       "      <td>...</td>\n",
       "      <td>0.346542</td>\n",
       "      <td>0.335724</td>\n",
       "      <td>0.264359</td>\n",
       "      <td>0.300018</td>\n",
       "      <td>-8.61768</td>\n",
       "      <td>68.24536</td>\n",
       "      <td>1_2019</td>\n",
       "      <td>-8.61768_68.24536</td>\n",
       "      <td>1_2019_-8.61768_68.24536</td>\n",
       "      <td>1_2019_-8.61768_68.24536</td>\n",
       "    </tr>\n",
       "    <tr>\n",
       "      <th>1</th>\n",
       "      <td>-1.408560</td>\n",
       "      <td>-0.662555</td>\n",
       "      <td>292.943</td>\n",
       "      <td>297.978</td>\n",
       "      <td>-0.002556</td>\n",
       "      <td>-0.001076</td>\n",
       "      <td>-0.000734</td>\n",
       "      <td>-3.818420e-08</td>\n",
       "      <td>0.173808</td>\n",
       "      <td>0.650001</td>\n",
       "      <td>...</td>\n",
       "      <td>0.254517</td>\n",
       "      <td>0.259918</td>\n",
       "      <td>0.281769</td>\n",
       "      <td>0.296188</td>\n",
       "      <td>-8.61768</td>\n",
       "      <td>68.24536</td>\n",
       "      <td>2_2019</td>\n",
       "      <td>-8.61768_68.24536</td>\n",
       "      <td>2_2019_-8.61768_68.24536</td>\n",
       "      <td>2_2019_-8.61768_68.24536</td>\n",
       "    </tr>\n",
       "    <tr>\n",
       "      <th>2</th>\n",
       "      <td>-0.892110</td>\n",
       "      <td>-0.449448</td>\n",
       "      <td>293.250</td>\n",
       "      <td>297.989</td>\n",
       "      <td>-0.002535</td>\n",
       "      <td>-0.000980</td>\n",
       "      <td>-0.000713</td>\n",
       "      <td>-3.678720e-08</td>\n",
       "      <td>0.178823</td>\n",
       "      <td>0.650001</td>\n",
       "      <td>...</td>\n",
       "      <td>0.278152</td>\n",
       "      <td>0.284195</td>\n",
       "      <td>0.261597</td>\n",
       "      <td>0.291672</td>\n",
       "      <td>-8.61768</td>\n",
       "      <td>68.24536</td>\n",
       "      <td>3_2019</td>\n",
       "      <td>-8.61768_68.24536</td>\n",
       "      <td>3_2019_-8.61768_68.24536</td>\n",
       "      <td>3_2019_-8.61768_68.24536</td>\n",
       "    </tr>\n",
       "    <tr>\n",
       "      <th>3</th>\n",
       "      <td>-0.392348</td>\n",
       "      <td>0.384925</td>\n",
       "      <td>293.934</td>\n",
       "      <td>296.542</td>\n",
       "      <td>-0.001748</td>\n",
       "      <td>-0.000658</td>\n",
       "      <td>-0.001343</td>\n",
       "      <td>-2.700840e-08</td>\n",
       "      <td>0.180959</td>\n",
       "      <td>0.650017</td>\n",
       "      <td>...</td>\n",
       "      <td>0.385513</td>\n",
       "      <td>0.378616</td>\n",
       "      <td>0.309784</td>\n",
       "      <td>0.288925</td>\n",
       "      <td>-8.61768</td>\n",
       "      <td>68.24536</td>\n",
       "      <td>4_2019</td>\n",
       "      <td>-8.61768_68.24536</td>\n",
       "      <td>4_2019_-8.61768_68.24536</td>\n",
       "      <td>4_2019_-8.61768_68.24536</td>\n",
       "    </tr>\n",
       "    <tr>\n",
       "      <th>4</th>\n",
       "      <td>-0.447104</td>\n",
       "      <td>0.581028</td>\n",
       "      <td>292.571</td>\n",
       "      <td>294.726</td>\n",
       "      <td>-0.001374</td>\n",
       "      <td>-0.000462</td>\n",
       "      <td>-0.001139</td>\n",
       "      <td>-2.048910e-08</td>\n",
       "      <td>0.182375</td>\n",
       "      <td>0.650009</td>\n",
       "      <td>...</td>\n",
       "      <td>0.397659</td>\n",
       "      <td>0.400055</td>\n",
       "      <td>0.392654</td>\n",
       "      <td>0.309311</td>\n",
       "      <td>-8.61768</td>\n",
       "      <td>68.24536</td>\n",
       "      <td>5_2019</td>\n",
       "      <td>-8.61768_68.24536</td>\n",
       "      <td>5_2019_-8.61768_68.24536</td>\n",
       "      <td>5_2019_-8.61768_68.24536</td>\n",
       "    </tr>\n",
       "  </tbody>\n",
       "</table>\n",
       "<p>5 rows × 42 columns</p>\n",
       "</div>"
      ]
     },
     "execution_count": 38,
     "metadata": {},
     "output_type": "execute_result"
    }
   ],
   "execution_count": 38
  },
  {
   "cell_type": "code",
   "metadata": {
    "id": "KVikZCpJneHF",
    "ExecuteTime": {
     "end_time": "2025-01-08T04:58:48.914660Z",
     "start_time": "2025-01-08T04:58:48.906405Z"
    }
   },
   "source": [
    "# Merge datasets with nearest locations\n",
    "merged_data = hospital_data.copy()\n",
    "datasets = [\n",
    "    (toilets, 'toilet', 'toilet_Month_Year_lat_lon'),\n",
    "    (waste_management, 'waste', 'waste_Month_Year_lat_lon'),\n",
    "    (water_sources, 'water', 'water_Month_Year_lat_lon'),\n",
    "]"
   ],
   "outputs": [],
   "execution_count": 39
  },
  {
   "cell_type": "code",
   "metadata": {
    "id": "2Nkmm7HxnevS",
    "ExecuteTime": {
     "end_time": "2025-01-08T04:58:58.412241Z",
     "start_time": "2025-01-08T04:58:51.688068Z"
    }
   },
   "source": [
    "for df, prefix, id_col in datasets:\n",
    "    nearest = find_nearest(merged_data, df, f\"{prefix}_Transformed_Latitude\", f\"{prefix}_Transformed_Longitude\", id_col)\n",
    "    nearest_df = pd.DataFrame(list(nearest.items()), columns=['ID', id_col])\n",
    "    merged_data = merged_data.merge(nearest_df, on=\"ID\").merge(df, on=id_col)"
   ],
   "outputs": [],
   "execution_count": 40
  },
  {
   "cell_type": "code",
   "metadata": {
    "colab": {
     "base_uri": "https://localhost:8080/"
    },
    "id": "gJO7vR3YV_t0",
    "outputId": "a71b2340-900c-4790-c1a3-c11da0e86665",
    "ExecuteTime": {
     "end_time": "2025-01-08T04:59:01.292977Z",
     "start_time": "2025-01-08T04:59:01.281613Z"
    }
   },
   "source": [
    "merged_data.shape"
   ],
   "outputs": [
    {
     "data": {
      "text/plain": [
       "(22044, 135)"
      ]
     },
     "execution_count": 41,
     "metadata": {},
     "output_type": "execute_result"
    }
   ],
   "execution_count": 41
  },
  {
   "cell_type": "code",
   "metadata": {
    "colab": {
     "base_uri": "https://localhost:8080/",
     "height": 266
    },
    "id": "z_KM_F1sWN31",
    "outputId": "db91fba8-f06c-4108-b46d-7db5cba6aeee",
    "ExecuteTime": {
     "end_time": "2025-01-08T04:59:06.774133Z",
     "start_time": "2025-01-08T04:59:06.750179Z"
    }
   },
   "source": [
    "merged_data.head(2)"
   ],
   "outputs": [
    {
     "data": {
      "text/plain": [
       "                                                  ID  Total  \\\n",
       "0  ID_3a11929e-3317-476d-99f7-1bd9fb58f018_12_202...    0.0   \n",
       "1  ID_3a11929e-3317-476d-99f7-1bd9fb58f018_12_202...    0.0   \n",
       "\n",
       "                                  Location  \\\n",
       "0  ID_3a11929e-3317-476d-99f7-1bd9fb58f018   \n",
       "1  ID_3a11929e-3317-476d-99f7-1bd9fb58f018   \n",
       "\n",
       "          Category_Health_Facility_UUID    Disease  Month  Year  \\\n",
       "0  a9280aca-c872-46f5-ada7-4a7cc31cf6ec  Dysentery     12  2022   \n",
       "1  a9280aca-c872-46f5-ada7-4a7cc31cf6ec    Typhoid     12  2022   \n",
       "\n",
       "   Transformed_Latitude  Transformed_Longitude toilet_Month_Year_lat_lon  ...  \\\n",
       "0              -8.62982               68.23267  4_2020_-8.62979_68.23582  ...   \n",
       "1              -8.62982               68.23267  4_2020_-8.62979_68.23582  ...   \n",
       "\n",
       "   water_tp  water_swvl1  water_swvl2  water_swvl3  water_swvl4  \\\n",
       "0  0.002667     0.325867     0.325302     0.281708      0.24585   \n",
       "1  0.002667     0.325867     0.325302     0.281708      0.24585   \n",
       "\n",
       "   water_Transformed_Latitude  water_Transformed_Longitude  water_Month_Year  \\\n",
       "0                    -8.62966                     68.23589           12_2023   \n",
       "1                    -8.62966                     68.23589           12_2023   \n",
       "\n",
       "             lat_lon         Month_Year_lat_lon  \n",
       "0  -8.62966_68.23589  12_2023_-8.62966_68.23589  \n",
       "1  -8.62966_68.23589  12_2023_-8.62966_68.23589  \n",
       "\n",
       "[2 rows x 135 columns]"
      ],
      "text/html": [
       "<div>\n",
       "<style scoped>\n",
       "    .dataframe tbody tr th:only-of-type {\n",
       "        vertical-align: middle;\n",
       "    }\n",
       "\n",
       "    .dataframe tbody tr th {\n",
       "        vertical-align: top;\n",
       "    }\n",
       "\n",
       "    .dataframe thead th {\n",
       "        text-align: right;\n",
       "    }\n",
       "</style>\n",
       "<table border=\"1\" class=\"dataframe\">\n",
       "  <thead>\n",
       "    <tr style=\"text-align: right;\">\n",
       "      <th></th>\n",
       "      <th>ID</th>\n",
       "      <th>Total</th>\n",
       "      <th>Location</th>\n",
       "      <th>Category_Health_Facility_UUID</th>\n",
       "      <th>Disease</th>\n",
       "      <th>Month</th>\n",
       "      <th>Year</th>\n",
       "      <th>Transformed_Latitude</th>\n",
       "      <th>Transformed_Longitude</th>\n",
       "      <th>toilet_Month_Year_lat_lon</th>\n",
       "      <th>...</th>\n",
       "      <th>water_tp</th>\n",
       "      <th>water_swvl1</th>\n",
       "      <th>water_swvl2</th>\n",
       "      <th>water_swvl3</th>\n",
       "      <th>water_swvl4</th>\n",
       "      <th>water_Transformed_Latitude</th>\n",
       "      <th>water_Transformed_Longitude</th>\n",
       "      <th>water_Month_Year</th>\n",
       "      <th>lat_lon</th>\n",
       "      <th>Month_Year_lat_lon</th>\n",
       "    </tr>\n",
       "  </thead>\n",
       "  <tbody>\n",
       "    <tr>\n",
       "      <th>0</th>\n",
       "      <td>ID_3a11929e-3317-476d-99f7-1bd9fb58f018_12_202...</td>\n",
       "      <td>0.0</td>\n",
       "      <td>ID_3a11929e-3317-476d-99f7-1bd9fb58f018</td>\n",
       "      <td>a9280aca-c872-46f5-ada7-4a7cc31cf6ec</td>\n",
       "      <td>Dysentery</td>\n",
       "      <td>12</td>\n",
       "      <td>2022</td>\n",
       "      <td>-8.62982</td>\n",
       "      <td>68.23267</td>\n",
       "      <td>4_2020_-8.62979_68.23582</td>\n",
       "      <td>...</td>\n",
       "      <td>0.002667</td>\n",
       "      <td>0.325867</td>\n",
       "      <td>0.325302</td>\n",
       "      <td>0.281708</td>\n",
       "      <td>0.24585</td>\n",
       "      <td>-8.62966</td>\n",
       "      <td>68.23589</td>\n",
       "      <td>12_2023</td>\n",
       "      <td>-8.62966_68.23589</td>\n",
       "      <td>12_2023_-8.62966_68.23589</td>\n",
       "    </tr>\n",
       "    <tr>\n",
       "      <th>1</th>\n",
       "      <td>ID_3a11929e-3317-476d-99f7-1bd9fb58f018_12_202...</td>\n",
       "      <td>0.0</td>\n",
       "      <td>ID_3a11929e-3317-476d-99f7-1bd9fb58f018</td>\n",
       "      <td>a9280aca-c872-46f5-ada7-4a7cc31cf6ec</td>\n",
       "      <td>Typhoid</td>\n",
       "      <td>12</td>\n",
       "      <td>2022</td>\n",
       "      <td>-8.62982</td>\n",
       "      <td>68.23267</td>\n",
       "      <td>4_2020_-8.62979_68.23582</td>\n",
       "      <td>...</td>\n",
       "      <td>0.002667</td>\n",
       "      <td>0.325867</td>\n",
       "      <td>0.325302</td>\n",
       "      <td>0.281708</td>\n",
       "      <td>0.24585</td>\n",
       "      <td>-8.62966</td>\n",
       "      <td>68.23589</td>\n",
       "      <td>12_2023</td>\n",
       "      <td>-8.62966_68.23589</td>\n",
       "      <td>12_2023_-8.62966_68.23589</td>\n",
       "    </tr>\n",
       "  </tbody>\n",
       "</table>\n",
       "<p>2 rows × 135 columns</p>\n",
       "</div>"
      ]
     },
     "execution_count": 42,
     "metadata": {},
     "output_type": "execute_result"
    }
   ],
   "execution_count": 42
  },
  {
   "cell_type": "markdown",
   "metadata": {
    "id": "5ZB6-U9UnhC_"
   },
   "source": [
    "## Start modeling"
   ]
  },
  {
   "cell_type": "code",
   "metadata": {
    "id": "_8vI4Z2Pnmmw",
    "ExecuteTime": {
     "end_time": "2025-01-08T05:03:54.520833Z",
     "start_time": "2025-01-08T05:03:54.502417Z"
    }
   },
   "source": [
    "# Split merged data into train and test sets\n",
    "train_df = merged_data[merged_data['Year'] < 2023]\n",
    "test_df = merged_data[merged_data['Year'] == 2023]"
   ],
   "outputs": [],
   "execution_count": 43
  },
  {
   "cell_type": "code",
   "metadata": {
    "id": "ythI0pe-p-Qy",
    "ExecuteTime": {
     "end_time": "2025-01-08T05:03:57.784589Z",
     "start_time": "2025-01-08T05:03:57.767910Z"
    }
   },
   "source": [
    "# Specify the target column\n",
    "target_column = 'Total'\n",
    "\n",
    "# Feature and target split\n",
    "X = train_df.drop(columns=[target_column, 'ID', 'Location'])  # Exclude unnecessary columns\n",
    "y = train_df[target_column]"
   ],
   "outputs": [],
   "execution_count": 44
  },
  {
   "cell_type": "code",
   "metadata": {
    "id": "INIUEtEyp-TO",
    "ExecuteTime": {
     "end_time": "2025-01-08T05:05:15.586140Z",
     "start_time": "2025-01-08T05:05:15.550032Z"
    }
   },
   "source": [
    "# Handle categorical features\n",
    "categorical_cols = X.select_dtypes(include=['object']).columns\n",
    "for col in categorical_cols:\n",
    "    le = LabelEncoder()\n",
    "    X[col] = le.fit_transform(X[col])\n"
   ],
   "outputs": [],
   "execution_count": 45
  },
  {
   "cell_type": "code",
   "metadata": {
    "id": "l0D0795ep-YC",
    "ExecuteTime": {
     "end_time": "2025-01-08T05:12:09.189853Z",
     "start_time": "2025-01-08T05:12:09.162491Z"
    }
   },
   "source": [
    "# Split the dataset\n",
    "X_train, X_test, y_train, y_test = train_test_split(X, y, test_size=0.2, random_state=42)"
   ],
   "outputs": [],
   "execution_count": 52
  },
  {
   "metadata": {
    "ExecuteTime": {
     "end_time": "2025-01-08T05:53:08.124134Z",
     "start_time": "2025-01-08T05:53:08.117414Z"
    }
   },
   "cell_type": "code",
   "source": [
    "# feature indices\n",
    "categorical_features_indices = np.where(X.dtypes != np.float64)[0]"
   ],
   "outputs": [],
   "execution_count": 65
  },
  {
   "metadata": {},
   "cell_type": "code",
   "outputs": [],
   "execution_count": null,
   "source": "# feature selection\n"
  },
  {
   "metadata": {},
   "cell_type": "code",
   "outputs": [],
   "execution_count": null,
   "source": ""
  },
  {
   "cell_type": "code",
   "metadata": {
    "colab": {
     "base_uri": "https://localhost:8080/",
     "height": 80
    },
    "id": "w5hzunK8p-de",
    "outputId": "3a3598f2-f8a9-4849-944a-0edec4124a5f",
    "ExecuteTime": {
     "end_time": "2025-01-08T06:03:52.319800Z",
     "start_time": "2025-01-08T06:02:53.829382Z"
    }
   },
   "source": [
    "# Initialize and train the regression model\n",
    "# use catboost\n",
    "model_cat = CatBoostRegressor(\n",
    "    iterations=1000,         # Number of boosting iterations\n",
    "    learning_rate=0.05,      # Step size for updates\n",
    "    depth=6,                # Maximum tree depth\n",
    "    cat_features=categorical_features_indices,  # Pass categorical feature indices\n",
    "    verbose=100,            # Display training progress every 100 iterations\n",
    "    random_state=42)\n",
    "# model = RandomForestRegressor(random_state=42)\n",
    "model_cat.fit(X_train, y_train)"
   ],
   "outputs": [
    {
     "name": "stdout",
     "output_type": "stream",
     "text": [
      "0:\tlearn: 32.1707877\ttotal: 48.5ms\tremaining: 48.5s\n",
      "100:\tlearn: 27.3951004\ttotal: 5.75s\tremaining: 51.2s\n",
      "200:\tlearn: 26.9533511\ttotal: 11.1s\tremaining: 44.3s\n",
      "300:\tlearn: 26.5724338\ttotal: 17s\tremaining: 39.4s\n",
      "400:\tlearn: 26.1337234\ttotal: 22.9s\tremaining: 34.2s\n",
      "500:\tlearn: 25.7150026\ttotal: 28.6s\tremaining: 28.5s\n",
      "600:\tlearn: 25.2907702\ttotal: 34.6s\tremaining: 22.9s\n",
      "700:\tlearn: 24.8902273\ttotal: 40.4s\tremaining: 17.2s\n",
      "800:\tlearn: 24.5127952\ttotal: 46.4s\tremaining: 11.5s\n",
      "900:\tlearn: 24.2917205\ttotal: 52.3s\tremaining: 5.74s\n",
      "999:\tlearn: 23.9904694\ttotal: 58.1s\tremaining: 0us\n"
     ]
    },
    {
     "data": {
      "text/plain": [
       "<catboost.core.CatBoostRegressor at 0x176c6e28ec0>"
      ]
     },
     "execution_count": 88,
     "metadata": {},
     "output_type": "execute_result"
    }
   ],
   "execution_count": 88
  },
  {
   "cell_type": "code",
   "metadata": {
    "id": "F2DuGSVvp-ge",
    "ExecuteTime": {
     "end_time": "2025-01-08T06:04:29.661181Z",
     "start_time": "2025-01-08T06:04:29.597758Z"
    }
   },
   "source": [
    "# Make predictions\n",
    "y_pred = model.predict(X_test)"
   ],
   "outputs": [],
   "execution_count": 91
  },
  {
   "cell_type": "code",
   "metadata": {
    "colab": {
     "base_uri": "https://localhost:8080/"
    },
    "id": "vA9USuwHmlHo",
    "outputId": "01ef66a3-f991-4717-aac9-88298f8726d6",
    "ExecuteTime": {
     "end_time": "2025-01-08T06:04:25.389194Z",
     "start_time": "2025-01-08T06:04:25.379223Z"
    }
   },
   "source": [
    "y_pred"
   ],
   "outputs": [
    {
     "data": {
      "text/plain": [
       "array([-0.69950822,  3.04471984, 11.34645092, ...,  9.97713221,\n",
       "        9.02122053,  1.38615636])"
      ]
     },
     "execution_count": 90,
     "metadata": {},
     "output_type": "execute_result"
    }
   ],
   "execution_count": 90
  },
  {
   "cell_type": "code",
   "metadata": {
    "colab": {
     "base_uri": "https://localhost:8080/"
    },
    "id": "TqNV_lpQp-ku",
    "outputId": "2d550320-6006-420a-a154-9f5743189dbe",
    "ExecuteTime": {
     "end_time": "2025-01-08T06:02:39.924806Z",
     "start_time": "2025-01-08T06:02:39.915009Z"
    }
   },
   "source": [
    "# Evaluate the model\n",
    "mae = mean_absolute_error(y_test, y_pred)\n",
    "print(f\"Mean Absolute Error (MAE): {mae}\")"
   ],
   "outputs": [
    {
     "name": "stdout",
     "output_type": "stream",
     "text": [
      "Mean Absolute Error (MAE): 11.45195067694681\n"
     ]
    }
   ],
   "execution_count": 87
  },
  {
   "cell_type": "markdown",
   "metadata": {
    "id": "T1GslRNGqOXE"
   },
   "source": [
    "#### Make predictions on test"
   ]
  },
  {
   "cell_type": "code",
   "metadata": {
    "id": "Ib8SvPj2p-nI",
    "ExecuteTime": {
     "end_time": "2025-01-08T05:59:52.693372Z",
     "start_time": "2025-01-08T05:59:52.686671Z"
    }
   },
   "source": [
    "# Prepare test data\n",
    "X_test_final = test_df.drop(columns=['Total', 'ID', 'Location'], errors='ignore')"
   ],
   "outputs": [],
   "execution_count": 75
  },
  {
   "cell_type": "code",
   "metadata": {
    "id": "VrP5gJL_qSWh",
    "ExecuteTime": {
     "end_time": "2025-01-08T05:59:54.880757Z",
     "start_time": "2025-01-08T05:59:54.864398Z"
    }
   },
   "source": [
    "# Handle categorical features in test data\n",
    "for col in categorical_cols:\n",
    "    if col in X_test_final.columns:\n",
    "        le = LabelEncoder()\n",
    "        X_test_final[col] = le.fit_transform(X_test_final[col])"
   ],
   "outputs": [],
   "execution_count": 76
  },
  {
   "cell_type": "code",
   "metadata": {
    "id": "pZCDt-4pqSbp",
    "ExecuteTime": {
     "end_time": "2025-01-08T05:59:57.345709Z",
     "start_time": "2025-01-08T05:59:57.327303Z"
    }
   },
   "source": [
    "# Align test dataset with training features\n",
    "for col in X.columns:\n",
    "    if col not in X_test_final.columns:\n",
    "        X_test_final[col] = 0  # Add missing feature with default value (e.g., zero)\n"
   ],
   "outputs": [],
   "execution_count": 77
  },
  {
   "cell_type": "code",
   "metadata": {
    "id": "7aa5xCTaqSeM",
    "ExecuteTime": {
     "end_time": "2025-01-08T06:00:00.110636Z",
     "start_time": "2025-01-08T06:00:00.100525Z"
    }
   },
   "source": [
    "# Ensure columns are in the same order as training\n",
    "X_test_final = X_test_final[X.columns]"
   ],
   "outputs": [],
   "execution_count": 78
  },
  {
   "cell_type": "code",
   "metadata": {
    "id": "jab5dNx5p-pa",
    "ExecuteTime": {
     "end_time": "2025-01-08T06:00:01.799952Z",
     "start_time": "2025-01-08T06:00:01.718205Z"
    }
   },
   "source": [
    "# Make predictions on test data\n",
    "predictions = model.predict(X_test_final)"
   ],
   "outputs": [],
   "execution_count": 79
  },
  {
   "cell_type": "code",
   "execution_count": null,
   "metadata": {
    "id": "qQeCIYOTy4Ud"
   },
   "outputs": [],
   "source": []
  },
  {
   "cell_type": "code",
   "metadata": {
    "id": "pdLN9yUmqX-L",
    "ExecuteTime": {
     "end_time": "2025-01-08T06:00:07.462057Z",
     "start_time": "2025-01-08T06:00:07.452741Z"
    }
   },
   "source": [
    "# Create the final DataFrame with ID and predictions\n",
    "sub = test_df[['ID']].copy()\n",
    "sub['Predicted_Total'] = predictions"
   ],
   "outputs": [],
   "execution_count": 80
  },
  {
   "cell_type": "code",
   "metadata": {
    "colab": {
     "base_uri": "https://localhost:8080/",
     "height": 206
    },
    "id": "MHSwmT4xXnry",
    "outputId": "9be7c1b4-7348-4547-c7d5-0a67431008e6",
    "ExecuteTime": {
     "end_time": "2025-01-08T06:00:09.879257Z",
     "start_time": "2025-01-08T06:00:09.858884Z"
    }
   },
   "source": [
    "# View the first few records in sub\n",
    "sub.head()"
   ],
   "outputs": [
    {
     "data": {
      "text/plain": [
       "                                                      ID  Predicted_Total\n",
       "17172  ID_00cd8292-dd85-4fa3-8148-9592e88a1651_1_2023...        18.258596\n",
       "17173  ID_00cd8292-dd85-4fa3-8148-9592e88a1651_2_2023...        11.619504\n",
       "17174  ID_00cd8292-dd85-4fa3-8148-9592e88a1651_3_2023...        10.405140\n",
       "17175  ID_00cd8292-dd85-4fa3-8148-9592e88a1651_4_2023...         8.375777\n",
       "17176  ID_00cd8292-dd85-4fa3-8148-9592e88a1651_5_2023...         7.297534"
      ],
      "text/html": [
       "<div>\n",
       "<style scoped>\n",
       "    .dataframe tbody tr th:only-of-type {\n",
       "        vertical-align: middle;\n",
       "    }\n",
       "\n",
       "    .dataframe tbody tr th {\n",
       "        vertical-align: top;\n",
       "    }\n",
       "\n",
       "    .dataframe thead th {\n",
       "        text-align: right;\n",
       "    }\n",
       "</style>\n",
       "<table border=\"1\" class=\"dataframe\">\n",
       "  <thead>\n",
       "    <tr style=\"text-align: right;\">\n",
       "      <th></th>\n",
       "      <th>ID</th>\n",
       "      <th>Predicted_Total</th>\n",
       "    </tr>\n",
       "  </thead>\n",
       "  <tbody>\n",
       "    <tr>\n",
       "      <th>17172</th>\n",
       "      <td>ID_00cd8292-dd85-4fa3-8148-9592e88a1651_1_2023...</td>\n",
       "      <td>18.258596</td>\n",
       "    </tr>\n",
       "    <tr>\n",
       "      <th>17173</th>\n",
       "      <td>ID_00cd8292-dd85-4fa3-8148-9592e88a1651_2_2023...</td>\n",
       "      <td>11.619504</td>\n",
       "    </tr>\n",
       "    <tr>\n",
       "      <th>17174</th>\n",
       "      <td>ID_00cd8292-dd85-4fa3-8148-9592e88a1651_3_2023...</td>\n",
       "      <td>10.405140</td>\n",
       "    </tr>\n",
       "    <tr>\n",
       "      <th>17175</th>\n",
       "      <td>ID_00cd8292-dd85-4fa3-8148-9592e88a1651_4_2023...</td>\n",
       "      <td>8.375777</td>\n",
       "    </tr>\n",
       "    <tr>\n",
       "      <th>17176</th>\n",
       "      <td>ID_00cd8292-dd85-4fa3-8148-9592e88a1651_5_2023...</td>\n",
       "      <td>7.297534</td>\n",
       "    </tr>\n",
       "  </tbody>\n",
       "</table>\n",
       "</div>"
      ]
     },
     "execution_count": 81,
     "metadata": {},
     "output_type": "execute_result"
    }
   ],
   "execution_count": 81
  },
  {
   "cell_type": "code",
   "metadata": {
    "id": "6J0TCDmUqZE9",
    "ExecuteTime": {
     "end_time": "2025-01-08T06:00:13.993669Z",
     "start_time": "2025-01-08T06:00:13.958012Z"
    }
   },
   "source": [
    "# Save the final DataFrame to a CSV\n",
    "sub.to_csv('Benchmark.csv', index=False)"
   ],
   "outputs": [],
   "execution_count": 82
  }
 ],
 "metadata": {
  "colab": {
   "provenance": []
  },
  "kernelspec": {
   "display_name": "ML-and-AI-Challenges",
   "language": "python",
   "name": "python3"
  },
  "language_info": {
   "codemirror_mode": {
    "name": "ipython",
    "version": 3
   },
   "file_extension": ".py",
   "mimetype": "text/x-python",
   "name": "python",
   "nbconvert_exporter": "python",
   "pygments_lexer": "ipython3",
   "version": "3.12.8"
  }
 },
 "nbformat": 4,
 "nbformat_minor": 4
}
